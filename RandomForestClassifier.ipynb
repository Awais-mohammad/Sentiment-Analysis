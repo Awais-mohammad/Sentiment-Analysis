{
 "cells": [
  {
   "cell_type": "code",
   "execution_count": 1,
   "id": "f5d7cd13",
   "metadata": {},
   "outputs": [],
   "source": [
    "import pandas as pd\n",
    "from sklearn.ensemble import RandomForestClassifier\n",
    "from sklearn.model_selection import train_test_split\n",
    "from sklearn.model_selection import cross_val_score\n",
    "from sklearn.model_selection import StratifiedKFold,KFold,RepeatedKFold\n",
    "from sklearn.metrics import f1_score, recall_score, accuracy_score,precision_score,classification_report,confusion_matrix"
   ]
  },
  {
   "cell_type": "markdown",
   "id": "97ca65d3",
   "metadata": {},
   "source": [
    "## Hold out method for training random forest"
   ]
  },
  {
   "cell_type": "markdown",
   "id": "43850b51",
   "metadata": {},
   "source": [
    "### random forest on polarity features"
   ]
  },
  {
   "cell_type": "code",
   "execution_count": 2,
   "id": "1acedffc",
   "metadata": {},
   "outputs": [
    {
     "data": {
      "text/plain": [
       "['2features.csv', 'countofWords.csv', 'tfidfTop10.csv']"
      ]
     },
     "execution_count": 2,
     "metadata": {},
     "output_type": "execute_result"
    }
   ],
   "source": [
    "import os\n",
    "os.listdir('.\\\\Features')"
   ]
  },
  {
   "cell_type": "code",
   "execution_count": 5,
   "id": "ac0b3d11",
   "metadata": {},
   "outputs": [],
   "source": [
    "cOF=pd.read_csv('.\\\\Features\\\\tfidfTop10.csv',header='infer')"
   ]
  },
  {
   "cell_type": "code",
   "execution_count": 6,
   "id": "22dd1baf",
   "metadata": {},
   "outputs": [],
   "source": [
    "y=cOF['Sentiments']\n",
    "X=cOF.drop('Sentiments',axis=1)"
   ]
  },
  {
   "cell_type": "code",
   "execution_count": 9,
   "id": "80ef7eff",
   "metadata": {},
   "outputs": [],
   "source": [
    "X_train, X_test, y_train, y_test = train_test_split(X, y, test_size=0.3, random_state=1)"
   ]
  },
  {
   "cell_type": "code",
   "execution_count": 10,
   "id": "472951e2",
   "metadata": {},
   "outputs": [],
   "source": [
    "clf = RandomForestClassifier(max_depth=2, random_state=0)"
   ]
  },
  {
   "cell_type": "code",
   "execution_count": 11,
   "id": "7fc70bc3",
   "metadata": {},
   "outputs": [
    {
     "data": {
      "text/plain": [
       "RandomForestClassifier(max_depth=2, random_state=0)"
      ]
     },
     "execution_count": 11,
     "metadata": {},
     "output_type": "execute_result"
    }
   ],
   "source": [
    "clf.fit(X_train, y_train)"
   ]
  },
  {
   "cell_type": "code",
   "execution_count": 12,
   "id": "983108a1",
   "metadata": {},
   "outputs": [],
   "source": [
    "res=clf.predict(X_test)"
   ]
  },
  {
   "cell_type": "code",
   "execution_count": 13,
   "id": "6e56720f",
   "metadata": {},
   "outputs": [
    {
     "data": {
      "text/plain": [
       "0.8005524413031115"
      ]
     },
     "execution_count": 13,
     "metadata": {},
     "output_type": "execute_result"
    }
   ],
   "source": [
    "accuracy_score(y_test, res)"
   ]
  },
  {
   "cell_type": "code",
   "execution_count": 14,
   "id": "9a01d12a",
   "metadata": {},
   "outputs": [],
   "source": [
    "allLabels=clf.predict(X)"
   ]
  },
  {
   "cell_type": "code",
   "execution_count": null,
   "id": "71fec872",
   "metadata": {},
   "outputs": [],
   "source": [
    "# storing the labels in the dataset"
   ]
  },
  {
   "cell_type": "code",
   "execution_count": 16,
   "id": "69eb3d99",
   "metadata": {},
   "outputs": [],
   "source": [
    "df=pd.read_csv('.\\\\Processed\\\\AfterHtmlEntities.csv')"
   ]
  },
  {
   "cell_type": "code",
   "execution_count": 18,
   "id": "d2f39fa2",
   "metadata": {},
   "outputs": [],
   "source": [
    "df.insert(len(df.columns),'Predicted_Labels_Using_TFIDF',allLabels)"
   ]
  },
  {
   "cell_type": "code",
   "execution_count": 20,
   "id": "c6379863",
   "metadata": {},
   "outputs": [],
   "source": [
    "df.to_csv('.\\\\test\\\\predtfidfTop10.csv')"
   ]
  },
  {
   "cell_type": "markdown",
   "id": "3fa17fa8",
   "metadata": {},
   "source": [
    "### Count of words feature"
   ]
  },
  {
   "cell_type": "code",
   "execution_count": 5,
   "id": "9041fc5e",
   "metadata": {},
   "outputs": [],
   "source": [
    "cOW=pd.read_csv('.\\\\Features\\\\countofWords.csv',header='infer')"
   ]
  },
  {
   "cell_type": "code",
   "execution_count": 7,
   "id": "a7ed6d8a",
   "metadata": {},
   "outputs": [
    {
     "name": "stdout",
     "output_type": "stream",
     "text": [
      "0.7957592005849379\n"
     ]
    }
   ],
   "source": [
    "y=cOW['Sentiments']\n",
    "X=cOW.drop('Sentiments',axis=1)\n",
    "X_train, X_test, y_train, y_test = train_test_split(X, y, test_size=0.3, random_state=123)\n",
    "clf = RandomForestClassifier(max_depth=2, random_state=0)\n",
    "clf.fit(X_train, y_train)\n",
    "res=clf.predict(X_test)\n",
    "print(accuracy_score(y_test, res))\n",
    "allLabels=clf.predict(X)\n",
    "df=pd.read_csv('.\\\\test\\\\predtfidfTop10.csv')\n",
    "df.insert(len(df.columns),'Predicted_Labels_Using_COW',allLabels)\n",
    "df.to_csv('.\\\\test\\\\predCOW.csv')"
   ]
  },
  {
   "cell_type": "markdown",
   "id": "04cb8871",
   "metadata": {},
   "source": [
    "# word2vec"
   ]
  },
  {
   "cell_type": "code",
   "execution_count": 327,
   "id": "db6c8ee1",
   "metadata": {},
   "outputs": [],
   "source": [
    "word2Vec=pd.read_csv('.\\\\Features\\\\word2VecFeatures.csv',header='infer')"
   ]
  },
  {
   "cell_type": "code",
   "execution_count": 328,
   "id": "9b6b29fe",
   "metadata": {},
   "outputs": [],
   "source": [
    "y=word2Vec['Sentiments']\n",
    "# y=[1,2]\n",
    "X=word2Vec.drop('Sentiments',axis=1)"
   ]
  },
  {
   "cell_type": "code",
   "execution_count": 329,
   "id": "93c08b66",
   "metadata": {},
   "outputs": [
    {
     "name": "stdout",
     "output_type": "stream",
     "text": [
      "0.7934032009099034\n"
     ]
    }
   ],
   "source": [
    "\n",
    "X_train, X_test, y_train, y_test = train_test_split(X, y, test_size=0.3, random_state=123)\n",
    "clf = RandomForestClassifier()\n",
    "clf.fit(X_train, y_train)\n",
    "res=clf.predict(X_test)\n",
    "print(accuracy_score(y_test, res))"
   ]
  },
  {
   "cell_type": "code",
   "execution_count": 240,
   "id": "9c32f993",
   "metadata": {},
   "outputs": [],
   "source": [
    "# using 10 fold cross validationn......."
   ]
  },
  {
   "cell_type": "code",
   "execution_count": null,
   "id": "60d7dfd8",
   "metadata": {},
   "outputs": [],
   "source": []
  },
  {
   "cell_type": "code",
   "execution_count": 330,
   "id": "b63b3094",
   "metadata": {},
   "outputs": [],
   "source": [
    "# word2vec -----\n",
    "clf = RandomForestClassifier()\n",
    "word2Vec=pd.read_csv('.\\\\Features\\\\word2VecFeatures.csv',header='infer')\n",
    "y=word2Vec['Sentiments']\n",
    "X=X\n",
    "scores = cross_val_score(clf, X, y, cv=10)"
   ]
  },
  {
   "cell_type": "code",
   "execution_count": 331,
   "id": "6b2dd62f",
   "metadata": {},
   "outputs": [
    {
     "data": {
      "text/plain": [
       "0.7952131207463401"
      ]
     },
     "execution_count": 331,
     "metadata": {},
     "output_type": "execute_result"
    }
   ],
   "source": [
    "np.mean(scores)"
   ]
  },
  {
   "cell_type": "code",
   "execution_count": 261,
   "id": "b6237d04",
   "metadata": {},
   "outputs": [
    {
     "name": "stdout",
     "output_type": "stream",
     "text": [
      "0.7974066495683493\n"
     ]
    }
   ],
   "source": [
    "# tfidf features\n",
    "tfIDF=pd.read_csv('.\\\\Features\\\\tfidfTop10.csv',header='infer')\n",
    "y=tfIDF['Sentiments']\n",
    "X=tfIDF.drop('Sentiments',axis=1)\n",
    "clf = RandomForestClassifier()\n",
    "score = cross_val_score(clf, X, y, cv=10)\n",
    "print(np.mean(score))"
   ]
  },
  {
   "cell_type": "code",
   "execution_count": 265,
   "id": "1a6756ea",
   "metadata": {},
   "outputs": [
    {
     "name": "stdout",
     "output_type": "stream",
     "text": [
      "0.7812469928117431\n"
     ]
    }
   ],
   "source": [
    "# count of words\n",
    "cOW=pd.read_csv('.\\\\Features\\\\countofWords.csv',header='infer')\n",
    "y=cOW['Sentiments']\n",
    "X=cOW.drop('Sentiments',axis=1)\n",
    "clf = RandomForestClassifier()\n",
    "score = cross_val_score(clf, X, y, cv=10)\n",
    "print(np.mean(score))"
   ]
  },
  {
   "cell_type": "code",
   "execution_count": 266,
   "id": "e5be5819",
   "metadata": {},
   "outputs": [],
   "source": [
    "# subjectivity score feature\n",
    "df=pd.read_csv('.\\\\Features\\\\2features.csv',header='infer')"
   ]
  },
  {
   "cell_type": "code",
   "execution_count": 280,
   "id": "dda38b7a",
   "metadata": {},
   "outputs": [],
   "source": [
    "X=df.Subjectivity_Score\n",
    "X=X.values.reshape(-1, 1)\n",
    "y=df['Sentiments']"
   ]
  },
  {
   "cell_type": "code",
   "execution_count": 281,
   "id": "6b61d3cf",
   "metadata": {},
   "outputs": [
    {
     "name": "stdout",
     "output_type": "stream",
     "text": [
      "0.7455154705390319\n"
     ]
    }
   ],
   "source": [
    "clf = RandomForestClassifier()\n",
    "score = cross_val_score(clf, X, y, cv=10)\n",
    "print(np.mean(score))"
   ]
  },
  {
   "cell_type": "code",
   "execution_count": 297,
   "id": "6e0fe8e9",
   "metadata": {},
   "outputs": [],
   "source": [
    "# puncs features\n",
    "X=df.iloc[:,3:6]\n",
    "y=df.Sentiments"
   ]
  },
  {
   "cell_type": "code",
   "execution_count": 298,
   "id": "96d04d55",
   "metadata": {},
   "outputs": [
    {
     "name": "stdout",
     "output_type": "stream",
     "text": [
      "0.796456119619933\n"
     ]
    }
   ],
   "source": [
    "clf = RandomForestClassifier()\n",
    "score = cross_val_score(clf, X, y, cv=10)\n",
    "print(np.mean(score))"
   ]
  },
  {
   "cell_type": "code",
   "execution_count": null,
   "id": "1d0c4373",
   "metadata": {},
   "outputs": [],
   "source": []
  },
  {
   "cell_type": "code",
   "execution_count": null,
   "id": "65d6839a",
   "metadata": {},
   "outputs": [],
   "source": []
  }
 ],
 "metadata": {
  "kernelspec": {
   "display_name": "Python 3 (ipykernel)",
   "language": "python",
   "name": "python3"
  },
  "language_info": {
   "codemirror_mode": {
    "name": "ipython",
    "version": 3
   },
   "file_extension": ".py",
   "mimetype": "text/x-python",
   "name": "python",
   "nbconvert_exporter": "python",
   "pygments_lexer": "ipython3",
   "version": "3.8.12"
  }
 },
 "nbformat": 4,
 "nbformat_minor": 5
}
