{
 "cells": [
  {
   "cell_type": "code",
   "execution_count": 23,
   "id": "bfc13595",
   "metadata": {},
   "outputs": [],
   "source": [
    "import pandas as pd"
   ]
  },
  {
   "cell_type": "code",
   "execution_count": 41,
   "id": "6fa328e1",
   "metadata": {},
   "outputs": [],
   "source": [
    "# reading all the forward propagated files\n",
    "firstSet=pd.read_csv('./bertFeatures/start/bertFeatures0-1999.csv')\n",
    "secondSet=pd.read_csv('./bertFeatures/start/bertFeatures1999-2999.csv')\n",
    "secondnextSet=pd.read_csv('./bertFeatures/start/bertFeatures2999-3999.csv')\n",
    "thirdSet=pd.read_csv('./bertFeatures/start/bertFeatures3999-5999.csv')\n",
    "fourthSet=pd.read_csv('./bertFeatures/start/bertFeatures5999-6999.csv')\n",
    "fifthSet=pd.read_csv('./bertFeatures/start/bertFeatures6999-8999.csv')\n",
    "sixthSet=pd.read_csv('./bertFeatures/start/bertFeatures8999-10999.csv')\n",
    "seventhSet=pd.read_csv('./bertFeatures/start/bertFeatures10999-12999.csv')\n",
    "eightSet=pd.read_csv('./bertFeatures/start/bertFeatures12999-14999.csv')\n",
    "nineSet=pd.read_csv('./bertFeatures/start/bertFeatures14999-16999.csv')\n",
    "tenSet=pd.read_csv('./bertFeatures/start/bertFeatures16999-18027.csv')"
   ]
  },
  {
   "cell_type": "code",
   "execution_count": 42,
   "id": "4e68caff",
   "metadata": {},
   "outputs": [],
   "source": [
    "# merging them sequentialy\n",
    "forwardProp=pd.concat([firstSet,secondSet,secondnextSet,thirdSet,fourthSet,fifthSet,sixthSet,seventhSet,eightSet,\n",
    "               nineSet,tenSet])"
   ]
  },
  {
   "cell_type": "code",
   "execution_count": 43,
   "id": "c91325ec",
   "metadata": {},
   "outputs": [
    {
     "data": {
      "text/plain": [
       "18028"
      ]
     },
     "execution_count": 43,
     "metadata": {},
     "output_type": "execute_result"
    }
   ],
   "source": [
    "len(forwardProp)"
   ]
  },
  {
   "cell_type": "code",
   "execution_count": 38,
   "id": "885da25b",
   "metadata": {},
   "outputs": [],
   "source": [
    "# reading all the backwards computed files\n",
    "firstSet_b=pd.read_csv('./bertFeatures/end/bertFeatures18028-20028.csv')\n",
    "secondSet_b=pd.read_csv('./bertFeatures/end/bertFeatures20028-22028.csv')\n",
    "secondnextSet_b=pd.read_csv('./bertFeatures/end/bertFeatures22028-24028.csv')\n",
    "thirdSet_b=pd.read_csv('./bertFeatures/end/bertFeatures24028-26028.csv')\n",
    "fourthSet_b=pd.read_csv('./bertFeatures/end/bertFeatures26028-28028.csv')\n",
    "fifthSet_b=pd.read_csv('./bertFeatures/end/bertFeatures28028-30028.csv')\n",
    "sixthSet_b=pd.read_csv('./bertFeatures/end/bertFeatures30028-32028.csv')\n",
    "seventhSet_b=pd.read_csv('./bertFeatures/end/bertFeatures32028-34028.csv')\n",
    "eightSet_b=pd.read_csv('./bertFeatures/end/bertFeatures34028-36028.csv')\n",
    "nineSet_b=pd.read_csv('./bertFeatures/end/bertFeatures36028-38028.csv')\n",
    "tenSet_b=pd.read_csv('./bertFeatures/end/bertFeatures38028-39028.csv')\n",
    "elevenSet_b=pd.read_csv('./bertFeatures/end/bertFeatures39028-41028.csv')"
   ]
  },
  {
   "cell_type": "code",
   "execution_count": 39,
   "id": "cbe81e98",
   "metadata": {},
   "outputs": [],
   "source": [
    "# merging them sequentially\n",
    "backProp=pd.concat([firstSet_b,secondSet_b,secondnextSet_b,thirdSet_b,fourthSet_b,fifthSet_b,sixthSet_b,seventhSet_b\n",
    "                       ,eightSet_b,nineSet_b,tenSet_b,elevenSet_b])"
   ]
  },
  {
   "cell_type": "code",
   "execution_count": 44,
   "id": "127948ca",
   "metadata": {},
   "outputs": [
    {
     "name": "stdout",
     "output_type": "stream",
     "text": [
      "41028\n"
     ]
    }
   ],
   "source": [
    "print(len(forwardProp)+len(backProp))"
   ]
  },
  {
   "cell_type": "code",
   "execution_count": 45,
   "id": "8611d662",
   "metadata": {},
   "outputs": [],
   "source": [
    "# merging both props \n",
    "bertVectors=pd.concat([forwardProp,backProp])"
   ]
  },
  {
   "cell_type": "code",
   "execution_count": 50,
   "id": "7e8a6be8",
   "metadata": {},
   "outputs": [],
   "source": [
    "# copying class labels to append at file end\n",
    "orig=pd.read_csv('.\\\\processed\\\\AfterHtmlEntities.csv')"
   ]
  },
  {
   "cell_type": "code",
   "execution_count": 51,
   "id": "e4398274",
   "metadata": {},
   "outputs": [],
   "source": [
    "# adding class labels\n",
    "bertVectors.insert(len(bertVectors.columns),'Sentiments',orig['Sentiments'])"
   ]
  },
  {
   "cell_type": "code",
   "execution_count": 54,
   "id": "bb2d7238",
   "metadata": {},
   "outputs": [],
   "source": [
    "# storing to csv\n",
    "bertVectors.to_csv('.\\\\features\\\\bertFeatureVectors.csv',index=False)"
   ]
  }
 ],
 "metadata": {
  "kernelspec": {
   "display_name": "Python 3 (ipykernel)",
   "language": "python",
   "name": "python3"
  },
  "language_info": {
   "codemirror_mode": {
    "name": "ipython",
    "version": 3
   },
   "file_extension": ".py",
   "mimetype": "text/x-python",
   "name": "python",
   "nbconvert_exporter": "python",
   "pygments_lexer": "ipython3",
   "version": "3.8.12"
  }
 },
 "nbformat": 4,
 "nbformat_minor": 5
}
