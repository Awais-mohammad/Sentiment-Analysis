{
  "nbformat": 4,
  "nbformat_minor": 0,
  "metadata": {
    "colab": {
      "name": "Test-Model.ipynb",
      "provenance": [],
      "collapsed_sections": [],
      "toc_visible": true,
      "mount_file_id": "1WsdWfqU9Ztm_xysW89hBXGi2EhxZsOdi",
      "authorship_tag": "ABX9TyPVrqy3FcYJCtU62e+qNUHR",
      "include_colab_link": true
    },
    "kernelspec": {
      "name": "python3",
      "display_name": "Python 3"
    },
    "language_info": {
      "name": "python"
    },
    "accelerator": "GPU"
  },
  "cells": [
    {
      "cell_type": "markdown",
      "metadata": {
        "id": "view-in-github",
        "colab_type": "text"
      },
      "source": [
        "<a href=\"https://colab.research.google.com/github/Awais-mohammad/Sentiment-Analysis/blob/main/Test_Model.ipynb\" target=\"_parent\"><img src=\"https://colab.research.google.com/assets/colab-badge.svg\" alt=\"Open In Colab\"/></a>"
      ]
    },
    {
      "cell_type": "code",
      "execution_count": null,
      "metadata": {
        "colab": {
          "base_uri": "https://localhost:8080/"
        },
        "id": "mJH42Hyu-d6W",
        "outputId": "4e5521df-f0c3-4863-ef99-19b928e57ab9"
      },
      "outputs": [
        {
          "output_type": "stream",
          "name": "stdout",
          "text": [
            "Mounted at /content/drive\n"
          ]
        }
      ],
      "source": [
        "from google.colab import drive\n",
        "drive.mount('/content/drive')"
      ]
    },
    {
      "cell_type": "code",
      "source": [
        "# libraries\n",
        "import nltk\n",
        "import pandas as pd\n",
        "from nltk.corpus import stopwords\n",
        "from nltk.tokenize import word_tokenize\n",
        "import numpy as np\n",
        "import csv\n",
        "from nltk.stem import WordNetLemmatizer\n",
        "import string\n",
        "from nltk.corpus import wordnet\n",
        "import re"
      ],
      "metadata": {
        "id": "OXs5k-PzA5up"
      },
      "execution_count": null,
      "outputs": []
    },
    {
      "cell_type": "code",
      "source": [
        "# nlts download\n",
        "# nltk.download('stopwords')\n",
        "# nltk.download('punkt')\n",
        "# nltk.download('averaged_perceptron_tagger')\n",
        "nltk.download('wordnet')"
      ],
      "metadata": {
        "id": "HwaAhRwjA53W",
        "colab": {
          "base_uri": "https://localhost:8080/"
        },
        "outputId": "fce42a62-b6be-4930-b5ba-8cddbb6e0785"
      },
      "execution_count": null,
      "outputs": [
        {
          "output_type": "stream",
          "name": "stdout",
          "text": [
            "[nltk_data] Downloading package wordnet to /root/nltk_data...\n",
            "[nltk_data]   Unzipping corpora/wordnet.zip.\n"
          ]
        },
        {
          "output_type": "execute_result",
          "data": {
            "text/plain": [
              "True"
            ]
          },
          "metadata": {},
          "execution_count": 54
        }
      ]
    },
    {
      "cell_type": "code",
      "source": [
        "data=pd.read_csv('drive/MyDrive/features/test.csv',header='infer')"
      ],
      "metadata": {
        "id": "lUAON5-tA5-g"
      },
      "execution_count": null,
      "outputs": []
    },
    {
      "cell_type": "code",
      "source": [
        "dataChunk=data[:3]\n",
        "print(dataChunk)"
      ],
      "metadata": {
        "id": "tTtgFOiAA6Fl",
        "colab": {
          "base_uri": "https://localhost:8080/"
        },
        "outputId": "d0b3bae1-df02-47d1-ad4b-51f0ad4000b5"
      },
      "execution_count": null,
      "outputs": [
        {
          "output_type": "stream",
          "name": "stdout",
          "text": [
            "    ReviewID                                         ReviewText  Sentiments\n",
            "0  141745902  When checking in, I was informed that the two ...           0\n",
            "1  444756169  My room key didn't work originally however the...           1\n",
            "2   33242386  We called the hotel from the airport and asked...           1\n"
          ]
        }
      ]
    },
    {
      "cell_type": "code",
      "source": [
        "# preprocessing data\n",
        "# method to implement stop words removal\n",
        "filteredSentences = []\n",
        "def removestop(reviews):\n",
        "    stop_words = set(stopwords.words('english'))\n",
        "    r_txt = reviews\n",
        "    for i in range(0, len(r_txt)):\n",
        "        sentence = []\n",
        "        joinsentence = []\n",
        "        word_tokens = r_txt[i].split()\n",
        "        # print(word_tokens)\n",
        "        for w in word_tokens:\n",
        "            if w.lower() not in stop_words:\n",
        "                sentence.append(w)\n",
        "                joinsentence = (\" \").join(sentence)\n",
        "        filteredSentences.append(joinsentence)\n",
        "    return filteredSentences"
      ],
      "metadata": {
        "id": "_8rngbvbA6MT"
      },
      "execution_count": null,
      "outputs": []
    },
    {
      "cell_type": "code",
      "source": [
        "removestop(dataChunk.ReviewText)"
      ],
      "metadata": {
        "id": "OcU4DWM8A6SR",
        "colab": {
          "base_uri": "https://localhost:8080/"
        },
        "outputId": "ac4889ba-0464-4e7a-b481-9c007ed8c487"
      },
      "execution_count": null,
      "outputs": [
        {
          "output_type": "execute_result",
          "data": {
            "text/plain": [
              "['checking in, informed two rooms booked (a single double) facing side wall instead â\\x80\\x9cmagnificent viewâ\\x80 promised online. even called arriving Italy make sure booking ok unprecedented, hotel fully booked choice.The rooms clean breakfast nice great service, terms positives, it. air conditioning didnâ\\x80\\x99t work, beds many broken springs them, bed frame would move creak sitting upon like break (I weight 8 stone!), shower over-flowed onto bathroom floor making virtually impossible next person use it, bed sheets thread-bare holes them.The disappointing aspect trip, however, behaviour hotel guests response staff. 2.30am guests floor us screaming shouting made racket people floor woken well us. called reception desk repeatedly ask sort took hour respond. guests tried speak loud people took notice.Many people spoke early morning flights catch annoyed night disrupted. noise tolerable, continue hour without stopped unacceptable.',\n",
              " 'room key work originally however GSA, Matt called Engineer second attempt immediately came rescue. issue went beyond key problem however, engineer able quickly fix room within minutes. Shortly thereafter, Matt called room checking satisfied. Thank you!',\n",
              " 'called hotel airport asked pick crutches. greeted friendly reception staff quickly checked us showed room. room good size (the shower great) clean tastefully decorated. breakfast room decorated really well ran throughout hotel. Breakfast fresh plentiful fruits,cereals,cooked foods (eggs, sausages bacon),breads/rolls, cheeses, fruit juice, conserves,cooked meats speciality teas buffet style (best ask waiting staff get cappucino/espresso bar). bar hotel bit soul less Grappa served big measures cheaper bars! fantastic terrace back hotel past car park chill relax coffee bar. near main shopping area side bridge &quot;old town&quot; (15 minute walk bridge). great hotel good location.']"
            ]
          },
          "metadata": {},
          "execution_count": 48
        }
      ]
    },
    {
      "cell_type": "code",
      "source": [
        "# Pos tagging\n",
        "tokened_Sen = []\n",
        "def POS_taggs(rTxt):\n",
        "    for i in range(0, len(rTxt)):\n",
        "        token = word_tokenize(rTxt[i])\n",
        "        afterTag = nltk.pos_tag(token)\n",
        "        tokened_Sen.append(afterTag)\n",
        "    return tokened_Sen"
      ],
      "metadata": {
        "id": "tY82KQyEA6bt"
      },
      "execution_count": null,
      "outputs": []
    },
    {
      "cell_type": "code",
      "source": [
        "POS_taggs(filteredSentences)"
      ],
      "metadata": {
        "id": "4BAgI7YbA6pg"
      },
      "execution_count": null,
      "outputs": []
    },
    {
      "cell_type": "code",
      "source": [
        "lemmitized=[]\n",
        "lemmatizer = WordNetLemmatizer()"
      ],
      "metadata": {
        "id": "G7GyrWyZh9qj"
      },
      "execution_count": null,
      "outputs": []
    },
    {
      "cell_type": "code",
      "source": [
        "def get_wordnet_pos(treebank_tag):\n",
        "    print(treebank_tag)\n",
        "    if treebank_tag.startswith('J'):\n",
        "        return wordnet.ADJ\n",
        "    elif treebank_tag.startswith('V'):\n",
        "        return wordnet.VERB\n",
        "    elif treebank_tag.startswith('N'):\n",
        "        return wordnet.NOUN\n",
        "    elif treebank_tag.startswith('R'):\n",
        "        return wordnet.ADV\n",
        "    else:\n",
        "        return wordnet.NOUN"
      ],
      "metadata": {
        "id": "66JjtGNYhiUI"
      },
      "execution_count": null,
      "outputs": []
    },
    {
      "cell_type": "code",
      "source": [
        "for i in range(0,len(tokened_Sen)):\n",
        "    sentence = []\n",
        "    joinsentence = []\n",
        "    for j in range(0,len(tokened_Sen[i])):\n",
        "        word=lemmatizer.lemmatize(tokened_Sen[i][j][0].lower(),get_wordnet_pos(tokened_Sen[i][j][1]))\n",
        "        sentence.append(word)\n",
        "        joinsentence = (\" \").join(sentence) \n",
        "    lemmitized.append(joinsentence)"
      ],
      "metadata": {
        "id": "eBdrc-9dhiai"
      },
      "execution_count": null,
      "outputs": []
    },
    {
      "cell_type": "code",
      "source": [
        "afterNumer=[]\n",
        "# method to ressolve numeronyms\n",
        "def ressolveNumeronyms(r_txt):\n",
        "    numer = {'G8': 'group of eight', '24/7': 'twenty-four seven', '24/7': 'twenty-four seven', 'WWII': 'world war two',\n",
        "             'G7': 'group of seven',\n",
        "             '143': 'i love bed', '3D': 'three dimentional', 'e2a': 'excellent',\n",
        "             'b4a': 'personal effects accounting documents', 'b3a': 'bachelors of accounting'\n",
        "             }\n",
        "\n",
        "    for i in range(0, len(r_txt)):\n",
        "        new = r_txt[i].split()\n",
        "        for i in range(0, len(new)):\n",
        "            for k in numer:\n",
        "                if k == new[i]:\n",
        "                    new[i] = numer[k]\n",
        "        a = (' ').join(new)\n",
        "        print(a)\n",
        "        afterNumer.append(a)\n",
        "    return afterNumer"
      ],
      "metadata": {
        "id": "cmJWYOvlhilQ"
      },
      "execution_count": null,
      "outputs": []
    },
    {
      "cell_type": "code",
      "source": [
        "ressolveNumeronyms(lemmitized)"
      ],
      "metadata": {
        "colab": {
          "base_uri": "https://localhost:8080/"
        },
        "id": "g_w1olTthiqi",
        "outputId": "5a23319b-5382-4b76-c2e3-c71eb7bf7cc7"
      },
      "execution_count": null,
      "outputs": [
        {
          "output_type": "stream",
          "name": "stdout",
          "text": [
            "check in , inform two room book ( a single double ) face side wall instead âmagnificent viewâ promise online . even call arrive italy make sure book ok unprecedented , hotel fully book choice.the room clean breakfast nice great service , term positive , it . air condition didnât work , bed many broken spring them , bed frame would move creak sit upon like break ( i weight 8 stone ! ) , shower over-flowed onto bathroom floor make virtually impossible next person use it , bed sheet thread-bare hole them.the disappointing aspect trip , however , behaviour hotel guest response staff . 2.30am guest floor u scream shout make racket people floor wake well u . call reception desk repeatedly ask sort take hour respond . guest try speak loud people take notice.many people speak early morning flight catch annoy night disrupt . noise tolerable , continue hour without stop unacceptable .\n",
            "room key work originally however gsa , matt call engineer second attempt immediately come rescue . issue go beyond key problem however , engineer able quickly fix room within minute . shortly thereafter , matt call room checking satisfied . thank you !\n",
            "call hotel airport ask pick crutch . greet friendly reception staff quickly check u show room . room good size ( the shower great ) clean tastefully decorate . breakfast room decorate really well run throughout hotel . breakfast fresh plentiful fruit , cereal , cook food ( egg , sausage bacon ) , breads/rolls , cheese , fruit juice , conserve , cook meat speciality teas buffet style ( best ask wait staff get cappucino/espresso bar ) . bar hotel bit soul less grappa serve big measure cheap bar ! fantastic terrace back hotel past car park chill relax coffee bar . near main shopping area side bridge & quot ; old town & quot ; ( 15 minute walk bridge ) . great hotel good location .\n"
          ]
        },
        {
          "output_type": "execute_result",
          "data": {
            "text/plain": [
              "['check in , inform two room book ( a single double ) face side wall instead â\\x80\\x9cmagnificent viewâ\\x80 promise online . even call arrive italy make sure book ok unprecedented , hotel fully book choice.the room clean breakfast nice great service , term positive , it . air condition didnâ\\x80\\x99t work , bed many broken spring them , bed frame would move creak sit upon like break ( i weight 8 stone ! ) , shower over-flowed onto bathroom floor make virtually impossible next person use it , bed sheet thread-bare hole them.the disappointing aspect trip , however , behaviour hotel guest response staff . 2.30am guest floor u scream shout make racket people floor wake well u . call reception desk repeatedly ask sort take hour respond . guest try speak loud people take notice.many people speak early morning flight catch annoy night disrupt . noise tolerable , continue hour without stop unacceptable .',\n",
              " 'room key work originally however gsa , matt call engineer second attempt immediately come rescue . issue go beyond key problem however , engineer able quickly fix room within minute . shortly thereafter , matt call room checking satisfied . thank you !',\n",
              " 'call hotel airport ask pick crutch . greet friendly reception staff quickly check u show room . room good size ( the shower great ) clean tastefully decorate . breakfast room decorate really well run throughout hotel . breakfast fresh plentiful fruit , cereal , cook food ( egg , sausage bacon ) , breads/rolls , cheese , fruit juice , conserve , cook meat speciality teas buffet style ( best ask wait staff get cappucino/espresso bar ) . bar hotel bit soul less grappa serve big measure cheap bar ! fantastic terrace back hotel past car park chill relax coffee bar . near main shopping area side bridge & quot ; old town & quot ; ( 15 minute walk bridge ) . great hotel good location .']"
            ]
          },
          "metadata": {},
          "execution_count": 57
        }
      ]
    },
    {
      "cell_type": "code",
      "source": [
        "for i in range(0,len(afterNumer)):\n",
        "    mystr=afterNumer[i]\n",
        "    pattern=re.compile(r'\\B# | \\B#')\n",
        "    new=pattern.finditer(mystr)\n",
        "    for n in new:\n",
        "        if len(mystr) > n.start()+1:\n",
        "            newstr=mystr[:n.start()] + mystr[n.start()+1].upper() + mystr[n.start()+2:]\n",
        "            print(newstr)\n",
        "            afterNumer[i]=newstr"
      ],
      "metadata": {
        "id": "rE3Qd63zi6IU"
      },
      "execution_count": null,
      "outputs": []
    },
    {
      "cell_type": "code",
      "source": [
        "TAG_RE = re.compile(r'<[^>]+>')\n",
        "def remove_tags(text):\n",
        "    return TAG_RE.sub('', text)\n",
        "cleaned=[]\n",
        "for i in afterNumer:\n",
        "    cleaned.append(remove_tags(i))"
      ],
      "metadata": {
        "id": "w93sKCHrjMvo"
      },
      "execution_count": null,
      "outputs": []
    },
    {
      "cell_type": "code",
      "source": [
        "################################################### after preprocessing moving towards features ##############################################################"
      ],
      "metadata": {
        "id": "kT_PHr_Mi6Nm"
      },
      "execution_count": null,
      "outputs": []
    },
    {
      "cell_type": "code",
      "source": [
        "cleaned"
      ],
      "metadata": {
        "colab": {
          "base_uri": "https://localhost:8080/"
        },
        "id": "Y90V73WMi6SK",
        "outputId": "9671077f-e24e-4480-c60d-aee900809fad"
      },
      "execution_count": null,
      "outputs": [
        {
          "output_type": "execute_result",
          "data": {
            "text/plain": [
              "['check in , inform two room book ( a single double ) face side wall instead â\\x80\\x9cmagnificent viewâ\\x80 promise online . even call arrive italy make sure book ok unprecedented , hotel fully book choice.the room clean breakfast nice great service , term positive , it . air condition didnâ\\x80\\x99t work , bed many broken spring them , bed frame would move creak sit upon like break ( i weight 8 stone ! ) , shower over-flowed onto bathroom floor make virtually impossible next person use it , bed sheet thread-bare hole them.the disappointing aspect trip , however , behaviour hotel guest response staff . 2.30am guest floor u scream shout make racket people floor wake well u . call reception desk repeatedly ask sort take hour respond . guest try speak loud people take notice.many people speak early morning flight catch annoy night disrupt . noise tolerable , continue hour without stop unacceptable .',\n",
              " 'room key work originally however gsa , matt call engineer second attempt immediately come rescue . issue go beyond key problem however , engineer able quickly fix room within minute . shortly thereafter , matt call room checking satisfied . thank you !',\n",
              " 'call hotel airport ask pick crutch . greet friendly reception staff quickly check u show room . room good size ( the shower great ) clean tastefully decorate . breakfast room decorate really well run throughout hotel . breakfast fresh plentiful fruit , cereal , cook food ( egg , sausage bacon ) , breads/rolls , cheese , fruit juice , conserve , cook meat speciality teas buffet style ( best ask wait staff get cappucino/espresso bar ) . bar hotel bit soul less grappa serve big measure cheap bar ! fantastic terrace back hotel past car park chill relax coffee bar . near main shopping area side bridge & quot ; old town & quot ; ( 15 minute walk bridge ) . great hotel good location .']"
            ]
          },
          "metadata": {},
          "execution_count": 60
        }
      ]
    },
    {
      "cell_type": "code",
      "source": [
        "# libraries\n",
        "import pandas as pd\n",
        "import string\n",
        "import numpy as np\n",
        "from nltk.tokenize import word_tokenize\n",
        "from nltk.corpus import wordnet\n",
        "import nltk\n",
        "from nltk.corpus import wordnet as wn\n",
        "from nltk.corpus import sentiwordnet as swn\n",
        "from sklearn.feature_extraction.text import CountVectorizer\n",
        "from heapq import nlargest\n",
        "from gensim.models import Word2Vec"
      ],
      "metadata": {
        "id": "VFhLrq32i6Z-"
      },
      "execution_count": null,
      "outputs": []
    },
    {
      "cell_type": "code",
      "source": [
        "featureMat=pd.DataFrame()"
      ],
      "metadata": {
        "id": "SETcijkMjre8"
      },
      "execution_count": null,
      "outputs": []
    },
    {
      "cell_type": "code",
      "source": [
        "semiColons=[]\n",
        "questionMarks=[]\n",
        "exclamations=[]\n",
        "for i in range(0,len(cleaned)):\n",
        "    newcount=[]\n",
        "    semiCount=0\n",
        "    exclamCount=0\n",
        "    questionMark=0\n",
        "    for j in range(0,len(cleaned[i])):\n",
        "        if cleaned[i][j] == ':':\n",
        "            semiCount=semiCount+1\n",
        "        elif cleaned[i][j] == '!':\n",
        "            exclamCount=exclamCount+1\n",
        "        elif cleaned[i][j]=='?':\n",
        "            questionMark=questionMark+1\n",
        "    semiColons.append(semiCount)\n",
        "    questionMarks.append(questionMark)\n",
        "    exclamations.append(exclamCount)"
      ],
      "metadata": {
        "id": "lMG8b71Ei6fj"
      },
      "execution_count": null,
      "outputs": []
    },
    {
      "cell_type": "code",
      "source": [
        "featureMat.insert(len(featureMat.columns), 'ExclamationsCount', exclamations)\n",
        "featureMat.insert(len(featureMat.columns), 'QuestionMarkCount', questionMarks)\n",
        "featureMat.insert(len(featureMat.columns), 'SemiColonsCount', semiColons)\n",
        "featureMat.head()"
      ],
      "metadata": {
        "id": "PpugRolBi6j0"
      },
      "execution_count": null,
      "outputs": []
    },
    {
      "cell_type": "code",
      "source": [
        "!pip install textblob "
      ],
      "metadata": {
        "colab": {
          "base_uri": "https://localhost:8080/"
        },
        "id": "OxKecUQsi6oL",
        "outputId": "5c87edc7-9e9c-44b1-b003-94c003a9daa8"
      },
      "execution_count": null,
      "outputs": [
        {
          "output_type": "stream",
          "name": "stdout",
          "text": [
            "Requirement already satisfied: textblob in /usr/local/lib/python3.7/dist-packages (0.15.3)\n",
            "Requirement already satisfied: nltk>=3.1 in /usr/local/lib/python3.7/dist-packages (from textblob) (3.2.5)\n",
            "Requirement already satisfied: six in /usr/local/lib/python3.7/dist-packages (from nltk>=3.1->textblob) (1.15.0)\n"
          ]
        }
      ]
    },
    {
      "cell_type": "code",
      "source": [
        "from textblob import TextBlob"
      ],
      "metadata": {
        "id": "cTqUQAYRj5sr"
      },
      "execution_count": null,
      "outputs": []
    },
    {
      "cell_type": "code",
      "source": [
        "subjectivity=[]\n",
        "for i in range(0,len(cleaned)):\n",
        "    blob=TextBlob(cleaned[i])\n",
        "    sub=blob.sentiment.subjectivity\n",
        "    subjectivity.append(sub)\n",
        "print(len(subjectivity))"
      ],
      "metadata": {
        "colab": {
          "base_uri": "https://localhost:8080/"
        },
        "id": "1TOBwV4oj5xq",
        "outputId": "fbe4a827-b44f-46aa-a84a-ae5062a85359"
      },
      "execution_count": null,
      "outputs": [
        {
          "output_type": "stream",
          "name": "stdout",
          "text": [
            "3\n"
          ]
        }
      ]
    },
    {
      "cell_type": "code",
      "source": [
        "featureMat.insert(len(featureMat.columns), 'Subjectivity_Score', subjectivity)"
      ],
      "metadata": {
        "id": "azILm1Twj52e"
      },
      "execution_count": null,
      "outputs": []
    },
    {
      "cell_type": "code",
      "source": [
        "# Pos tagging\n",
        "tokened_Sen=[]\n",
        "def POS_taggs():\n",
        "    for i in range(0, len(cleaned)):\n",
        "        token = word_tokenize(cleaned[i])\n",
        "        afterTag = nltk.pos_tag(token)\n",
        "        tokened_Sen.append(afterTag)\n",
        "    return tokened_Sen\n",
        "def get_wordnet_pos(treebank_tag):\n",
        "    if treebank_tag.startswith('J'):\n",
        "        return wordnet.ADJ\n",
        "    elif treebank_tag.startswith('V'):\n",
        "        return wordnet.VERB\n",
        "    elif treebank_tag.startswith('N'):\n",
        "        return wordnet.NOUN\n",
        "    elif treebank_tag.startswith('R'):\n",
        "        return wordnet.ADV\n",
        "    else:\n",
        "        return wordnet.NOUN\n",
        "POS_taggs()"
      ],
      "metadata": {
        "colab": {
          "base_uri": "https://localhost:8080/"
        },
        "id": "2_bEJF-kj56X",
        "outputId": "5924d8df-83ad-41f9-ca35-bba93dbb728d"
      },
      "execution_count": null,
      "outputs": [
        {
          "output_type": "execute_result",
          "data": {
            "text/plain": [
              "[[('check', 'NN'),\n",
              "  ('in', 'IN'),\n",
              "  (',', ','),\n",
              "  ('inform', 'VB'),\n",
              "  ('two', 'CD'),\n",
              "  ('room', 'NN'),\n",
              "  ('book', 'NN'),\n",
              "  ('(', '('),\n",
              "  ('a', 'DT'),\n",
              "  ('single', 'JJ'),\n",
              "  ('double', 'NN'),\n",
              "  (')', ')'),\n",
              "  ('face', 'NN'),\n",
              "  ('side', 'VBP'),\n",
              "  ('wall', 'NN'),\n",
              "  ('instead', 'RB'),\n",
              "  ('â\\x80\\x9cmagnificent', 'JJ'),\n",
              "  ('viewâ\\x80', 'NNS'),\n",
              "  ('promise', 'VBP'),\n",
              "  ('online', 'NN'),\n",
              "  ('.', '.'),\n",
              "  ('even', 'RB'),\n",
              "  ('call', 'VB'),\n",
              "  ('arrive', 'JJ'),\n",
              "  ('italy', 'NNS'),\n",
              "  ('make', 'VBP'),\n",
              "  ('sure', 'JJ'),\n",
              "  ('book', 'NN'),\n",
              "  ('ok', 'NN'),\n",
              "  ('unprecedented', 'JJ'),\n",
              "  (',', ','),\n",
              "  ('hotel', 'NN'),\n",
              "  ('fully', 'RB'),\n",
              "  ('book', 'NN'),\n",
              "  ('choice.the', 'NN'),\n",
              "  ('room', 'NN'),\n",
              "  ('clean', 'JJ'),\n",
              "  ('breakfast', 'NN'),\n",
              "  ('nice', 'JJ'),\n",
              "  ('great', 'JJ'),\n",
              "  ('service', 'NN'),\n",
              "  (',', ','),\n",
              "  ('term', 'NN'),\n",
              "  ('positive', 'JJ'),\n",
              "  (',', ','),\n",
              "  ('it', 'PRP'),\n",
              "  ('.', '.'),\n",
              "  ('air', 'NN'),\n",
              "  ('condition', 'NN'),\n",
              "  ('didnâ\\x80\\x99t', 'NN'),\n",
              "  ('work', 'NN'),\n",
              "  (',', ','),\n",
              "  ('bed', 'VBD'),\n",
              "  ('many', 'JJ'),\n",
              "  ('broken', 'JJ'),\n",
              "  ('spring', 'NN'),\n",
              "  ('them', 'PRP'),\n",
              "  (',', ','),\n",
              "  ('bed', 'VBD'),\n",
              "  ('frame', 'NN'),\n",
              "  ('would', 'MD'),\n",
              "  ('move', 'VB'),\n",
              "  ('creak', 'NN'),\n",
              "  ('sit', 'NN'),\n",
              "  ('upon', 'IN'),\n",
              "  ('like', 'IN'),\n",
              "  ('break', 'NN'),\n",
              "  ('(', '('),\n",
              "  ('i', 'JJ'),\n",
              "  ('weight', 'VBD'),\n",
              "  ('8', 'CD'),\n",
              "  ('stone', 'NN'),\n",
              "  ('!', '.'),\n",
              "  (')', ')'),\n",
              "  (',', ','),\n",
              "  ('shower', 'JJR'),\n",
              "  ('over-flowed', 'JJ'),\n",
              "  ('onto', 'IN'),\n",
              "  ('bathroom', 'NN'),\n",
              "  ('floor', 'NN'),\n",
              "  ('make', 'VBP'),\n",
              "  ('virtually', 'RB'),\n",
              "  ('impossible', 'JJ'),\n",
              "  ('next', 'JJ'),\n",
              "  ('person', 'NN'),\n",
              "  ('use', 'NN'),\n",
              "  ('it', 'PRP'),\n",
              "  (',', ','),\n",
              "  ('bed', 'VBD'),\n",
              "  ('sheet', 'JJ'),\n",
              "  ('thread-bare', 'JJ'),\n",
              "  ('hole', 'NN'),\n",
              "  ('them.the', 'NN'),\n",
              "  ('disappointing', 'JJ'),\n",
              "  ('aspect', 'JJ'),\n",
              "  ('trip', 'NN'),\n",
              "  (',', ','),\n",
              "  ('however', 'RB'),\n",
              "  (',', ','),\n",
              "  ('behaviour', 'JJ'),\n",
              "  ('hotel', 'NN'),\n",
              "  ('guest', 'JJS'),\n",
              "  ('response', 'NN'),\n",
              "  ('staff', 'NN'),\n",
              "  ('.', '.'),\n",
              "  ('2.30am', 'CD'),\n",
              "  ('guest', 'JJS'),\n",
              "  ('floor', 'NN'),\n",
              "  ('u', 'JJ'),\n",
              "  ('scream', 'NN'),\n",
              "  ('shout', 'NN'),\n",
              "  ('make', 'VBP'),\n",
              "  ('racket', 'NN'),\n",
              "  ('people', 'NNS'),\n",
              "  ('floor', 'NN'),\n",
              "  ('wake', 'VBP'),\n",
              "  ('well', 'RB'),\n",
              "  ('u', 'RB'),\n",
              "  ('.', '.'),\n",
              "  ('call', 'VB'),\n",
              "  ('reception', 'NN'),\n",
              "  ('desk', 'NN'),\n",
              "  ('repeatedly', 'RB'),\n",
              "  ('ask', 'VBZ'),\n",
              "  ('sort', 'NN'),\n",
              "  ('take', 'VB'),\n",
              "  ('hour', 'NN'),\n",
              "  ('respond', 'NN'),\n",
              "  ('.', '.'),\n",
              "  ('guest', 'JJS'),\n",
              "  ('try', 'NN'),\n",
              "  ('speak', 'NN'),\n",
              "  ('loud', 'JJ'),\n",
              "  ('people', 'NNS'),\n",
              "  ('take', 'VBP'),\n",
              "  ('notice.many', 'JJ'),\n",
              "  ('people', 'NNS'),\n",
              "  ('speak', 'VBP'),\n",
              "  ('early', 'JJ'),\n",
              "  ('morning', 'NN'),\n",
              "  ('flight', 'NN'),\n",
              "  ('catch', 'NN'),\n",
              "  ('annoy', 'NN'),\n",
              "  ('night', 'NN'),\n",
              "  ('disrupt', 'NN'),\n",
              "  ('.', '.'),\n",
              "  ('noise', 'NN'),\n",
              "  ('tolerable', 'JJ'),\n",
              "  (',', ','),\n",
              "  ('continue', 'VB'),\n",
              "  ('hour', 'NN'),\n",
              "  ('without', 'IN'),\n",
              "  ('stop', 'NN'),\n",
              "  ('unacceptable', 'NN'),\n",
              "  ('.', '.')],\n",
              " [('room', 'NN'),\n",
              "  ('key', 'JJ'),\n",
              "  ('work', 'NN'),\n",
              "  ('originally', 'RB'),\n",
              "  ('however', 'RB'),\n",
              "  ('gsa', 'NN'),\n",
              "  (',', ','),\n",
              "  ('matt', 'FW'),\n",
              "  ('call', 'VB'),\n",
              "  ('engineer', 'NN'),\n",
              "  ('second', 'JJ'),\n",
              "  ('attempt', 'NN'),\n",
              "  ('immediately', 'RB'),\n",
              "  ('come', 'VBN'),\n",
              "  ('rescue', 'NN'),\n",
              "  ('.', '.'),\n",
              "  ('issue', 'NN'),\n",
              "  ('go', 'VBP'),\n",
              "  ('beyond', 'IN'),\n",
              "  ('key', 'JJ'),\n",
              "  ('problem', 'NN'),\n",
              "  ('however', 'RB'),\n",
              "  (',', ','),\n",
              "  ('engineer', 'VBP'),\n",
              "  ('able', 'JJ'),\n",
              "  ('quickly', 'RB'),\n",
              "  ('fix', 'JJ'),\n",
              "  ('room', 'NN'),\n",
              "  ('within', 'IN'),\n",
              "  ('minute', 'NN'),\n",
              "  ('.', '.'),\n",
              "  ('shortly', 'RB'),\n",
              "  ('thereafter', 'RB'),\n",
              "  (',', ','),\n",
              "  ('matt', 'PRP'),\n",
              "  ('call', 'VBP'),\n",
              "  ('room', 'NN'),\n",
              "  ('checking', 'NN'),\n",
              "  ('satisfied', 'JJ'),\n",
              "  ('.', '.'),\n",
              "  ('thank', 'NN'),\n",
              "  ('you', 'PRP'),\n",
              "  ('!', '.')],\n",
              " [('call', 'JJ'),\n",
              "  ('hotel', 'NN'),\n",
              "  ('airport', 'NN'),\n",
              "  ('ask', 'NN'),\n",
              "  ('pick', 'NN'),\n",
              "  ('crutch', 'NN'),\n",
              "  ('.', '.'),\n",
              "  ('greet', 'NN'),\n",
              "  ('friendly', 'JJ'),\n",
              "  ('reception', 'NN'),\n",
              "  ('staff', 'NN'),\n",
              "  ('quickly', 'RB'),\n",
              "  ('check', 'VB'),\n",
              "  ('u', 'JJ'),\n",
              "  ('show', 'NN'),\n",
              "  ('room', 'NN'),\n",
              "  ('.', '.'),\n",
              "  ('room', 'NN'),\n",
              "  ('good', 'JJ'),\n",
              "  ('size', 'NN'),\n",
              "  ('(', '('),\n",
              "  ('the', 'DT'),\n",
              "  ('shower', 'NN'),\n",
              "  ('great', 'JJ'),\n",
              "  (')', ')'),\n",
              "  ('clean', 'VBP'),\n",
              "  ('tastefully', 'RB'),\n",
              "  ('decorate', 'JJ'),\n",
              "  ('.', '.'),\n",
              "  ('breakfast', 'NN'),\n",
              "  ('room', 'NN'),\n",
              "  ('decorate', 'NN'),\n",
              "  ('really', 'RB'),\n",
              "  ('well', 'RB'),\n",
              "  ('run', 'VB'),\n",
              "  ('throughout', 'IN'),\n",
              "  ('hotel', 'NN'),\n",
              "  ('.', '.'),\n",
              "  ('breakfast', 'NN'),\n",
              "  ('fresh', 'JJ'),\n",
              "  ('plentiful', 'JJ'),\n",
              "  ('fruit', 'NN'),\n",
              "  (',', ','),\n",
              "  ('cereal', 'NN'),\n",
              "  (',', ','),\n",
              "  ('cook', 'NN'),\n",
              "  ('food', 'NN'),\n",
              "  ('(', '('),\n",
              "  ('egg', 'NN'),\n",
              "  (',', ','),\n",
              "  ('sausage', 'VB'),\n",
              "  ('bacon', 'NN'),\n",
              "  (')', ')'),\n",
              "  (',', ','),\n",
              "  ('breads/rolls', 'NNS'),\n",
              "  (',', ','),\n",
              "  ('cheese', 'NN'),\n",
              "  (',', ','),\n",
              "  ('fruit', 'NN'),\n",
              "  ('juice', 'NN'),\n",
              "  (',', ','),\n",
              "  ('conserve', 'NN'),\n",
              "  (',', ','),\n",
              "  ('cook', 'NN'),\n",
              "  ('meat', 'NN'),\n",
              "  ('speciality', 'NN'),\n",
              "  ('teas', 'JJ'),\n",
              "  ('buffet', 'NN'),\n",
              "  ('style', 'NN'),\n",
              "  ('(', '('),\n",
              "  ('best', 'JJS'),\n",
              "  ('ask', 'NN'),\n",
              "  ('wait', 'NN'),\n",
              "  ('staff', 'NN'),\n",
              "  ('get', 'VB'),\n",
              "  ('cappucino/espresso', 'JJ'),\n",
              "  ('bar', 'NN'),\n",
              "  (')', ')'),\n",
              "  ('.', '.'),\n",
              "  ('bar', 'NN'),\n",
              "  ('hotel', 'NN'),\n",
              "  ('bit', 'NN'),\n",
              "  ('soul', 'JJ'),\n",
              "  ('less', 'RBR'),\n",
              "  ('grappa', 'JJ'),\n",
              "  ('serve', 'NN'),\n",
              "  ('big', 'JJ'),\n",
              "  ('measure', 'NN'),\n",
              "  ('cheap', 'JJ'),\n",
              "  ('bar', 'NN'),\n",
              "  ('!', '.'),\n",
              "  ('fantastic', 'JJ'),\n",
              "  ('terrace', 'NN'),\n",
              "  ('back', 'RB'),\n",
              "  ('hotel', 'NN'),\n",
              "  ('past', 'NN'),\n",
              "  ('car', 'NN'),\n",
              "  ('park', 'NN'),\n",
              "  ('chill', 'NN'),\n",
              "  ('relax', 'VB'),\n",
              "  ('coffee', 'NN'),\n",
              "  ('bar', 'NN'),\n",
              "  ('.', '.'),\n",
              "  ('near', 'IN'),\n",
              "  ('main', 'JJ'),\n",
              "  ('shopping', 'NN'),\n",
              "  ('area', 'NN'),\n",
              "  ('side', 'NN'),\n",
              "  ('bridge', 'NN'),\n",
              "  ('&', 'CC'),\n",
              "  ('quot', 'NN'),\n",
              "  (';', ':'),\n",
              "  ('old', 'JJ'),\n",
              "  ('town', 'NN'),\n",
              "  ('&', 'CC'),\n",
              "  ('quot', 'NN'),\n",
              "  (';', ':'),\n",
              "  ('(', '('),\n",
              "  ('15', 'CD'),\n",
              "  ('minute', 'NN'),\n",
              "  ('walk', 'NN'),\n",
              "  ('bridge', 'NN'),\n",
              "  (')', ')'),\n",
              "  ('.', '.'),\n",
              "  ('great', 'JJ'),\n",
              "  ('hotel', 'NN'),\n",
              "  ('good', 'JJ'),\n",
              "  ('location', 'NN'),\n",
              "  ('.', '.')]]"
            ]
          },
          "metadata": {},
          "execution_count": 70
        }
      ]
    },
    {
      "cell_type": "code",
      "source": [
        "positiveWords=[]\n",
        "negativeWords=[]\n",
        "neutralWords=[]\n",
        "for i in range(0,len(tokened_Sen)):\n",
        "    posCount=0\n",
        "    negCount=0\n",
        "    neuCount=0\n",
        "    for j in range(0,len(tokened_Sen[i])):\n",
        "        synsets=wn.synsets(tokened_Sen[i][j][0],pos=get_wordnet_pos(tokened_Sen[i][j][1]))\n",
        "        if synsets:\n",
        "            synset = synsets[0]\n",
        "            swn_synset = swn.senti_synset(synset.name())\n",
        "            if swn_synset.pos_score() > swn_synset.neg_score() and swn_synset.pos_score() > swn_synset.obj_score():\n",
        "                posCount+=1\n",
        "            elif swn_synset.neg_score() > swn_synset.pos_score() and swn_synset.neg_score() > swn_synset.obj_score():\n",
        "                negCount+=1\n",
        "            elif swn_synset.obj_score() > swn_synset.pos_score() and swn_synset.obj_score() > swn_synset.neg_score():\n",
        "                neuCount+=1\n",
        "    positiveWords.append(posCount)\n",
        "    negativeWords.append(negCount)\n",
        "    neutralWords.append(neuCount)"
      ],
      "metadata": {
        "id": "mkJ3tzo7j59-"
      },
      "execution_count": null,
      "outputs": []
    },
    {
      "cell_type": "code",
      "source": [
        "featureMat.insert(len(featureMat.columns), 'positiveWords', positiveWords)\n",
        "featureMat.insert(len(featureMat.columns), 'negativeWords', negativeWords)\n",
        "featureMat.insert(len(featureMat.columns), 'neutralWords', neutralWords)\n",
        "featureMat.head()"
      ],
      "metadata": {
        "colab": {
          "base_uri": "https://localhost:8080/",
          "height": 338
        },
        "id": "LL9PNpi-j6Az",
        "outputId": "ac5b9746-fae0-4ac0-faa4-cca8dc56d327"
      },
      "execution_count": null,
      "outputs": [
        {
          "output_type": "error",
          "ename": "ValueError",
          "evalue": "ignored",
          "traceback": [
            "\u001b[0;31m---------------------------------------------------------------------------\u001b[0m",
            "\u001b[0;31mValueError\u001b[0m                                Traceback (most recent call last)",
            "\u001b[0;32m<ipython-input-104-52114e5b1199>\u001b[0m in \u001b[0;36m<module>\u001b[0;34m()\u001b[0m\n\u001b[0;32m----> 1\u001b[0;31m \u001b[0mfeatureMat\u001b[0m\u001b[0;34m.\u001b[0m\u001b[0minsert\u001b[0m\u001b[0;34m(\u001b[0m\u001b[0mlen\u001b[0m\u001b[0;34m(\u001b[0m\u001b[0mfeatureMat\u001b[0m\u001b[0;34m.\u001b[0m\u001b[0mcolumns\u001b[0m\u001b[0;34m)\u001b[0m\u001b[0;34m,\u001b[0m \u001b[0;34m'positiveWords'\u001b[0m\u001b[0;34m,\u001b[0m \u001b[0mpositiveWords\u001b[0m\u001b[0;34m)\u001b[0m\u001b[0;34m\u001b[0m\u001b[0;34m\u001b[0m\u001b[0m\n\u001b[0m\u001b[1;32m      2\u001b[0m \u001b[0mfeatureMat\u001b[0m\u001b[0;34m.\u001b[0m\u001b[0minsert\u001b[0m\u001b[0;34m(\u001b[0m\u001b[0mlen\u001b[0m\u001b[0;34m(\u001b[0m\u001b[0mfeatureMat\u001b[0m\u001b[0;34m.\u001b[0m\u001b[0mcolumns\u001b[0m\u001b[0;34m)\u001b[0m\u001b[0;34m,\u001b[0m \u001b[0;34m'negativeWords'\u001b[0m\u001b[0;34m,\u001b[0m \u001b[0mnegativeWords\u001b[0m\u001b[0;34m)\u001b[0m\u001b[0;34m\u001b[0m\u001b[0;34m\u001b[0m\u001b[0m\n\u001b[1;32m      3\u001b[0m \u001b[0mfeatureMat\u001b[0m\u001b[0;34m.\u001b[0m\u001b[0minsert\u001b[0m\u001b[0;34m(\u001b[0m\u001b[0mlen\u001b[0m\u001b[0;34m(\u001b[0m\u001b[0mfeatureMat\u001b[0m\u001b[0;34m.\u001b[0m\u001b[0mcolumns\u001b[0m\u001b[0;34m)\u001b[0m\u001b[0;34m,\u001b[0m \u001b[0;34m'neutralWords'\u001b[0m\u001b[0;34m,\u001b[0m \u001b[0mneutralWords\u001b[0m\u001b[0;34m)\u001b[0m\u001b[0;34m\u001b[0m\u001b[0;34m\u001b[0m\u001b[0m\n\u001b[1;32m      4\u001b[0m \u001b[0mfeatureMat\u001b[0m\u001b[0;34m.\u001b[0m\u001b[0mhead\u001b[0m\u001b[0;34m(\u001b[0m\u001b[0;34m)\u001b[0m\u001b[0;34m\u001b[0m\u001b[0;34m\u001b[0m\u001b[0m\n",
            "\u001b[0;32m/usr/local/lib/python3.7/dist-packages/pandas/core/frame.py\u001b[0m in \u001b[0;36minsert\u001b[0;34m(self, loc, column, value, allow_duplicates)\u001b[0m\n\u001b[1;32m   4412\u001b[0m         \u001b[0;32mif\u001b[0m \u001b[0;32mnot\u001b[0m \u001b[0mallow_duplicates\u001b[0m \u001b[0;32mand\u001b[0m \u001b[0mcolumn\u001b[0m \u001b[0;32min\u001b[0m \u001b[0mself\u001b[0m\u001b[0;34m.\u001b[0m\u001b[0mcolumns\u001b[0m\u001b[0;34m:\u001b[0m\u001b[0;34m\u001b[0m\u001b[0;34m\u001b[0m\u001b[0m\n\u001b[1;32m   4413\u001b[0m             \u001b[0;31m# Should this be a different kind of error??\u001b[0m\u001b[0;34m\u001b[0m\u001b[0;34m\u001b[0m\u001b[0;34m\u001b[0m\u001b[0m\n\u001b[0;32m-> 4414\u001b[0;31m             \u001b[0;32mraise\u001b[0m \u001b[0mValueError\u001b[0m\u001b[0;34m(\u001b[0m\u001b[0;34mf\"cannot insert {column}, already exists\"\u001b[0m\u001b[0;34m)\u001b[0m\u001b[0;34m\u001b[0m\u001b[0;34m\u001b[0m\u001b[0m\n\u001b[0m\u001b[1;32m   4415\u001b[0m         \u001b[0;32mif\u001b[0m \u001b[0;32mnot\u001b[0m \u001b[0misinstance\u001b[0m\u001b[0;34m(\u001b[0m\u001b[0mloc\u001b[0m\u001b[0;34m,\u001b[0m \u001b[0mint\u001b[0m\u001b[0;34m)\u001b[0m\u001b[0;34m:\u001b[0m\u001b[0;34m\u001b[0m\u001b[0;34m\u001b[0m\u001b[0m\n\u001b[1;32m   4416\u001b[0m             \u001b[0;32mraise\u001b[0m \u001b[0mTypeError\u001b[0m\u001b[0;34m(\u001b[0m\u001b[0;34m\"loc must be int\"\u001b[0m\u001b[0;34m)\u001b[0m\u001b[0;34m\u001b[0m\u001b[0;34m\u001b[0m\u001b[0m\n",
            "\u001b[0;31mValueError\u001b[0m: cannot insert positiveWords, already exists"
          ]
        }
      ]
    },
    {
      "cell_type": "code",
      "source": [
        "finale=[]\n",
        "for i in range(0,len(cleaned)):\n",
        "    tokens=word_tokenize(cleaned[i])\n",
        "    sentences=[]\n",
        "    joined=[]\n",
        "    for word in tokens:\n",
        "        if word.isalpha() and len(word) > 2:\n",
        "            sentences.append(word)\n",
        "        joined=\" \".join(sentences)\n",
        "    finale.append(joined)\n",
        "len(finale)"
      ],
      "metadata": {
        "colab": {
          "base_uri": "https://localhost:8080/"
        },
        "id": "c03OTZSilgTP",
        "outputId": "cce12110-ed87-4445-f4de-bbf335fb3a26"
      },
      "execution_count": null,
      "outputs": [
        {
          "output_type": "execute_result",
          "data": {
            "text/plain": [
              "3"
            ]
          },
          "metadata": {},
          "execution_count": 83
        }
      ]
    },
    {
      "cell_type": "code",
      "source": [
        "a=pd.Series(finale)\n",
        "a=a.map(''.join)"
      ],
      "metadata": {
        "id": "0zyHLAf8lqfr"
      },
      "execution_count": null,
      "outputs": []
    },
    {
      "cell_type": "code",
      "source": [
        "CountVec = CountVectorizer(ngram_range=(1,1),stop_words='english')\n",
        "Count_data = CountVec.fit_transform(a)\n",
        "cv_dataframe=pd.DataFrame(Count_data.toarray(),columns=CountVec.get_feature_names())\n",
        "cv_dataframe.head()"
      ],
      "metadata": {
        "colab": {
          "base_uri": "https://localhost:8080/",
          "height": 271
        },
        "id": "khJebuREj6Dj",
        "outputId": "552e300d-197e-422e-9fa1-70e6ae202dd7"
      },
      "execution_count": null,
      "outputs": [
        {
          "output_type": "stream",
          "name": "stderr",
          "text": [
            "/usr/local/lib/python3.7/dist-packages/sklearn/utils/deprecation.py:87: FutureWarning: Function get_feature_names is deprecated; get_feature_names is deprecated in 1.0 and will be removed in 1.2. Please use get_feature_names_out instead.\n",
            "  warnings.warn(msg, category=FutureWarning)\n"
          ]
        },
        {
          "output_type": "execute_result",
          "data": {
            "text/plain": [
              "   able  air  airport  annoy  area  arrive  ask  aspect  attempt  bacon  ...  \\\n",
              "0     0    1        0      1     0       1    1       1        0      0  ...   \n",
              "1     1    0        0      0     0       0    0       0        1      0  ...   \n",
              "2     0    0        1      0     1       0    2       0        0      1  ...   \n",
              "\n",
              "   unacceptable  unprecedented  use  virtually  wait  wake  walk  wall  \\\n",
              "0             1              1    1          1     0     1     0     1   \n",
              "1             0              0    0          0     0     0     0     0   \n",
              "2             0              0    0          0     1     0     1     0   \n",
              "\n",
              "   weight  work  \n",
              "0       1     1  \n",
              "1       0     1  \n",
              "2       0     0  \n",
              "\n",
              "[3 rows x 157 columns]"
            ],
            "text/html": [
              "\n",
              "  <div id=\"df-99ce1a68-052b-4065-ae15-a5bf03b6aa1a\">\n",
              "    <div class=\"colab-df-container\">\n",
              "      <div>\n",
              "<style scoped>\n",
              "    .dataframe tbody tr th:only-of-type {\n",
              "        vertical-align: middle;\n",
              "    }\n",
              "\n",
              "    .dataframe tbody tr th {\n",
              "        vertical-align: top;\n",
              "    }\n",
              "\n",
              "    .dataframe thead th {\n",
              "        text-align: right;\n",
              "    }\n",
              "</style>\n",
              "<table border=\"1\" class=\"dataframe\">\n",
              "  <thead>\n",
              "    <tr style=\"text-align: right;\">\n",
              "      <th></th>\n",
              "      <th>able</th>\n",
              "      <th>air</th>\n",
              "      <th>airport</th>\n",
              "      <th>annoy</th>\n",
              "      <th>area</th>\n",
              "      <th>arrive</th>\n",
              "      <th>ask</th>\n",
              "      <th>aspect</th>\n",
              "      <th>attempt</th>\n",
              "      <th>bacon</th>\n",
              "      <th>...</th>\n",
              "      <th>unacceptable</th>\n",
              "      <th>unprecedented</th>\n",
              "      <th>use</th>\n",
              "      <th>virtually</th>\n",
              "      <th>wait</th>\n",
              "      <th>wake</th>\n",
              "      <th>walk</th>\n",
              "      <th>wall</th>\n",
              "      <th>weight</th>\n",
              "      <th>work</th>\n",
              "    </tr>\n",
              "  </thead>\n",
              "  <tbody>\n",
              "    <tr>\n",
              "      <th>0</th>\n",
              "      <td>0</td>\n",
              "      <td>1</td>\n",
              "      <td>0</td>\n",
              "      <td>1</td>\n",
              "      <td>0</td>\n",
              "      <td>1</td>\n",
              "      <td>1</td>\n",
              "      <td>1</td>\n",
              "      <td>0</td>\n",
              "      <td>0</td>\n",
              "      <td>...</td>\n",
              "      <td>1</td>\n",
              "      <td>1</td>\n",
              "      <td>1</td>\n",
              "      <td>1</td>\n",
              "      <td>0</td>\n",
              "      <td>1</td>\n",
              "      <td>0</td>\n",
              "      <td>1</td>\n",
              "      <td>1</td>\n",
              "      <td>1</td>\n",
              "    </tr>\n",
              "    <tr>\n",
              "      <th>1</th>\n",
              "      <td>1</td>\n",
              "      <td>0</td>\n",
              "      <td>0</td>\n",
              "      <td>0</td>\n",
              "      <td>0</td>\n",
              "      <td>0</td>\n",
              "      <td>0</td>\n",
              "      <td>0</td>\n",
              "      <td>1</td>\n",
              "      <td>0</td>\n",
              "      <td>...</td>\n",
              "      <td>0</td>\n",
              "      <td>0</td>\n",
              "      <td>0</td>\n",
              "      <td>0</td>\n",
              "      <td>0</td>\n",
              "      <td>0</td>\n",
              "      <td>0</td>\n",
              "      <td>0</td>\n",
              "      <td>0</td>\n",
              "      <td>1</td>\n",
              "    </tr>\n",
              "    <tr>\n",
              "      <th>2</th>\n",
              "      <td>0</td>\n",
              "      <td>0</td>\n",
              "      <td>1</td>\n",
              "      <td>0</td>\n",
              "      <td>1</td>\n",
              "      <td>0</td>\n",
              "      <td>2</td>\n",
              "      <td>0</td>\n",
              "      <td>0</td>\n",
              "      <td>1</td>\n",
              "      <td>...</td>\n",
              "      <td>0</td>\n",
              "      <td>0</td>\n",
              "      <td>0</td>\n",
              "      <td>0</td>\n",
              "      <td>1</td>\n",
              "      <td>0</td>\n",
              "      <td>1</td>\n",
              "      <td>0</td>\n",
              "      <td>0</td>\n",
              "      <td>0</td>\n",
              "    </tr>\n",
              "  </tbody>\n",
              "</table>\n",
              "<p>3 rows × 157 columns</p>\n",
              "</div>\n",
              "      <button class=\"colab-df-convert\" onclick=\"convertToInteractive('df-99ce1a68-052b-4065-ae15-a5bf03b6aa1a')\"\n",
              "              title=\"Convert this dataframe to an interactive table.\"\n",
              "              style=\"display:none;\">\n",
              "        \n",
              "  <svg xmlns=\"http://www.w3.org/2000/svg\" height=\"24px\"viewBox=\"0 0 24 24\"\n",
              "       width=\"24px\">\n",
              "    <path d=\"M0 0h24v24H0V0z\" fill=\"none\"/>\n",
              "    <path d=\"M18.56 5.44l.94 2.06.94-2.06 2.06-.94-2.06-.94-.94-2.06-.94 2.06-2.06.94zm-11 1L8.5 8.5l.94-2.06 2.06-.94-2.06-.94L8.5 2.5l-.94 2.06-2.06.94zm10 10l.94 2.06.94-2.06 2.06-.94-2.06-.94-.94-2.06-.94 2.06-2.06.94z\"/><path d=\"M17.41 7.96l-1.37-1.37c-.4-.4-.92-.59-1.43-.59-.52 0-1.04.2-1.43.59L10.3 9.45l-7.72 7.72c-.78.78-.78 2.05 0 2.83L4 21.41c.39.39.9.59 1.41.59.51 0 1.02-.2 1.41-.59l7.78-7.78 2.81-2.81c.8-.78.8-2.07 0-2.86zM5.41 20L4 18.59l7.72-7.72 1.47 1.35L5.41 20z\"/>\n",
              "  </svg>\n",
              "      </button>\n",
              "      \n",
              "  <style>\n",
              "    .colab-df-container {\n",
              "      display:flex;\n",
              "      flex-wrap:wrap;\n",
              "      gap: 12px;\n",
              "    }\n",
              "\n",
              "    .colab-df-convert {\n",
              "      background-color: #E8F0FE;\n",
              "      border: none;\n",
              "      border-radius: 50%;\n",
              "      cursor: pointer;\n",
              "      display: none;\n",
              "      fill: #1967D2;\n",
              "      height: 32px;\n",
              "      padding: 0 0 0 0;\n",
              "      width: 32px;\n",
              "    }\n",
              "\n",
              "    .colab-df-convert:hover {\n",
              "      background-color: #E2EBFA;\n",
              "      box-shadow: 0px 1px 2px rgba(60, 64, 67, 0.3), 0px 1px 3px 1px rgba(60, 64, 67, 0.15);\n",
              "      fill: #174EA6;\n",
              "    }\n",
              "\n",
              "    [theme=dark] .colab-df-convert {\n",
              "      background-color: #3B4455;\n",
              "      fill: #D2E3FC;\n",
              "    }\n",
              "\n",
              "    [theme=dark] .colab-df-convert:hover {\n",
              "      background-color: #434B5C;\n",
              "      box-shadow: 0px 1px 3px 1px rgba(0, 0, 0, 0.15);\n",
              "      filter: drop-shadow(0px 1px 2px rgba(0, 0, 0, 0.3));\n",
              "      fill: #FFFFFF;\n",
              "    }\n",
              "  </style>\n",
              "\n",
              "      <script>\n",
              "        const buttonEl =\n",
              "          document.querySelector('#df-99ce1a68-052b-4065-ae15-a5bf03b6aa1a button.colab-df-convert');\n",
              "        buttonEl.style.display =\n",
              "          google.colab.kernel.accessAllowed ? 'block' : 'none';\n",
              "\n",
              "        async function convertToInteractive(key) {\n",
              "          const element = document.querySelector('#df-99ce1a68-052b-4065-ae15-a5bf03b6aa1a');\n",
              "          const dataTable =\n",
              "            await google.colab.kernel.invokeFunction('convertToInteractive',\n",
              "                                                     [key], {});\n",
              "          if (!dataTable) return;\n",
              "\n",
              "          const docLinkHtml = 'Like what you see? Visit the ' +\n",
              "            '<a target=\"_blank\" href=https://colab.research.google.com/notebooks/data_table.ipynb>data table notebook</a>'\n",
              "            + ' to learn more about interactive tables.';\n",
              "          element.innerHTML = '';\n",
              "          dataTable['output_type'] = 'display_data';\n",
              "          await google.colab.output.renderOutput(dataTable, element);\n",
              "          const docLink = document.createElement('div');\n",
              "          docLink.innerHTML = docLinkHtml;\n",
              "          element.appendChild(docLink);\n",
              "        }\n",
              "      </script>\n",
              "    </div>\n",
              "  </div>\n",
              "  "
            ]
          },
          "metadata": {},
          "execution_count": 85
        }
      ]
    },
    {
      "cell_type": "code",
      "source": [
        "add={}\n",
        "for i in cv_dataframe.columns:\n",
        "    add[i]=cv_dataframe[i].sum()"
      ],
      "metadata": {
        "id": "mszKhcJsj6Gh"
      },
      "execution_count": null,
      "outputs": []
    },
    {
      "cell_type": "code",
      "source": [
        "top10 = nlargest(10, add, key = add.get)\n",
        "top10"
      ],
      "metadata": {
        "colab": {
          "base_uri": "https://localhost:8080/"
        },
        "id": "pB2mIHKtj6JF",
        "outputId": "03cff861-28af-4c61-dc07-2f2733bc3f05"
      },
      "execution_count": null,
      "outputs": [
        {
          "output_type": "execute_result",
          "data": {
            "text/plain": [
              "['room',\n",
              " 'hotel',\n",
              " 'bar',\n",
              " 'ask',\n",
              " 'bed',\n",
              " 'book',\n",
              " 'breakfast',\n",
              " 'floor',\n",
              " 'great',\n",
              " 'guest']"
            ]
          },
          "metadata": {},
          "execution_count": 87
        }
      ]
    },
    {
      "cell_type": "code",
      "source": [
        "from sklearn.feature_extraction.text import TfidfVectorizer"
      ],
      "metadata": {
        "id": "UObZUIRRj6Ls"
      },
      "execution_count": null,
      "outputs": []
    },
    {
      "cell_type": "code",
      "source": [
        "vectorizer = TfidfVectorizer(lowercase=False)    \n",
        "X = vectorizer.fit_transform(a)\n",
        "len(vectorizer.get_feature_names())\n",
        "X=X.astype(np.uint8)\n",
        "X=X.todense()\n",
        "tdf=pd.DataFrame(X,columns=vectorizer.get_feature_names())\n",
        "tdf.head(20)"
      ],
      "metadata": {
        "colab": {
          "base_uri": "https://localhost:8080/",
          "height": 306
        },
        "id": "09M7GLe-i6sv",
        "outputId": "ec7ecc31-dace-4933-e307-131ec55c408b"
      },
      "execution_count": null,
      "outputs": [
        {
          "output_type": "stream",
          "name": "stderr",
          "text": [
            "/usr/local/lib/python3.7/dist-packages/sklearn/utils/deprecation.py:87: FutureWarning: Function get_feature_names is deprecated; get_feature_names is deprecated in 1.0 and will be removed in 1.2. Please use get_feature_names_out instead.\n",
            "  warnings.warn(msg, category=FutureWarning)\n",
            "/usr/local/lib/python3.7/dist-packages/sklearn/utils/deprecation.py:87: FutureWarning: Function get_feature_names is deprecated; get_feature_names is deprecated in 1.0 and will be removed in 1.2. Please use get_feature_names_out instead.\n",
            "  warnings.warn(msg, category=FutureWarning)\n"
          ]
        },
        {
          "output_type": "execute_result",
          "data": {
            "text/plain": [
              "   able  air  airport  annoy  area  arrive  ask  aspect  attempt  back  ...  \\\n",
              "0     0    0        0      0     0       0    0       0        0     0  ...   \n",
              "1     0    0        0      0     0       0    0       0        0     0  ...   \n",
              "2     0    0        0      0     0       0    0       0        0     0  ...   \n",
              "\n",
              "   wake  walk  wall  weight  well  within  without  work  would  you  \n",
              "0     0     0     0       0     0       0        0     0      0    0  \n",
              "1     0     0     0       0     0       0        0     0      0    0  \n",
              "2     0     0     0       0     0       0        0     0      0    0  \n",
              "\n",
              "[3 rows x 182 columns]"
            ],
            "text/html": [
              "\n",
              "  <div id=\"df-72b19c03-dd8e-457e-87df-ce5412c5bac6\">\n",
              "    <div class=\"colab-df-container\">\n",
              "      <div>\n",
              "<style scoped>\n",
              "    .dataframe tbody tr th:only-of-type {\n",
              "        vertical-align: middle;\n",
              "    }\n",
              "\n",
              "    .dataframe tbody tr th {\n",
              "        vertical-align: top;\n",
              "    }\n",
              "\n",
              "    .dataframe thead th {\n",
              "        text-align: right;\n",
              "    }\n",
              "</style>\n",
              "<table border=\"1\" class=\"dataframe\">\n",
              "  <thead>\n",
              "    <tr style=\"text-align: right;\">\n",
              "      <th></th>\n",
              "      <th>able</th>\n",
              "      <th>air</th>\n",
              "      <th>airport</th>\n",
              "      <th>annoy</th>\n",
              "      <th>area</th>\n",
              "      <th>arrive</th>\n",
              "      <th>ask</th>\n",
              "      <th>aspect</th>\n",
              "      <th>attempt</th>\n",
              "      <th>back</th>\n",
              "      <th>...</th>\n",
              "      <th>wake</th>\n",
              "      <th>walk</th>\n",
              "      <th>wall</th>\n",
              "      <th>weight</th>\n",
              "      <th>well</th>\n",
              "      <th>within</th>\n",
              "      <th>without</th>\n",
              "      <th>work</th>\n",
              "      <th>would</th>\n",
              "      <th>you</th>\n",
              "    </tr>\n",
              "  </thead>\n",
              "  <tbody>\n",
              "    <tr>\n",
              "      <th>0</th>\n",
              "      <td>0</td>\n",
              "      <td>0</td>\n",
              "      <td>0</td>\n",
              "      <td>0</td>\n",
              "      <td>0</td>\n",
              "      <td>0</td>\n",
              "      <td>0</td>\n",
              "      <td>0</td>\n",
              "      <td>0</td>\n",
              "      <td>0</td>\n",
              "      <td>...</td>\n",
              "      <td>0</td>\n",
              "      <td>0</td>\n",
              "      <td>0</td>\n",
              "      <td>0</td>\n",
              "      <td>0</td>\n",
              "      <td>0</td>\n",
              "      <td>0</td>\n",
              "      <td>0</td>\n",
              "      <td>0</td>\n",
              "      <td>0</td>\n",
              "    </tr>\n",
              "    <tr>\n",
              "      <th>1</th>\n",
              "      <td>0</td>\n",
              "      <td>0</td>\n",
              "      <td>0</td>\n",
              "      <td>0</td>\n",
              "      <td>0</td>\n",
              "      <td>0</td>\n",
              "      <td>0</td>\n",
              "      <td>0</td>\n",
              "      <td>0</td>\n",
              "      <td>0</td>\n",
              "      <td>...</td>\n",
              "      <td>0</td>\n",
              "      <td>0</td>\n",
              "      <td>0</td>\n",
              "      <td>0</td>\n",
              "      <td>0</td>\n",
              "      <td>0</td>\n",
              "      <td>0</td>\n",
              "      <td>0</td>\n",
              "      <td>0</td>\n",
              "      <td>0</td>\n",
              "    </tr>\n",
              "    <tr>\n",
              "      <th>2</th>\n",
              "      <td>0</td>\n",
              "      <td>0</td>\n",
              "      <td>0</td>\n",
              "      <td>0</td>\n",
              "      <td>0</td>\n",
              "      <td>0</td>\n",
              "      <td>0</td>\n",
              "      <td>0</td>\n",
              "      <td>0</td>\n",
              "      <td>0</td>\n",
              "      <td>...</td>\n",
              "      <td>0</td>\n",
              "      <td>0</td>\n",
              "      <td>0</td>\n",
              "      <td>0</td>\n",
              "      <td>0</td>\n",
              "      <td>0</td>\n",
              "      <td>0</td>\n",
              "      <td>0</td>\n",
              "      <td>0</td>\n",
              "      <td>0</td>\n",
              "    </tr>\n",
              "  </tbody>\n",
              "</table>\n",
              "<p>3 rows × 182 columns</p>\n",
              "</div>\n",
              "      <button class=\"colab-df-convert\" onclick=\"convertToInteractive('df-72b19c03-dd8e-457e-87df-ce5412c5bac6')\"\n",
              "              title=\"Convert this dataframe to an interactive table.\"\n",
              "              style=\"display:none;\">\n",
              "        \n",
              "  <svg xmlns=\"http://www.w3.org/2000/svg\" height=\"24px\"viewBox=\"0 0 24 24\"\n",
              "       width=\"24px\">\n",
              "    <path d=\"M0 0h24v24H0V0z\" fill=\"none\"/>\n",
              "    <path d=\"M18.56 5.44l.94 2.06.94-2.06 2.06-.94-2.06-.94-.94-2.06-.94 2.06-2.06.94zm-11 1L8.5 8.5l.94-2.06 2.06-.94-2.06-.94L8.5 2.5l-.94 2.06-2.06.94zm10 10l.94 2.06.94-2.06 2.06-.94-2.06-.94-.94-2.06-.94 2.06-2.06.94z\"/><path d=\"M17.41 7.96l-1.37-1.37c-.4-.4-.92-.59-1.43-.59-.52 0-1.04.2-1.43.59L10.3 9.45l-7.72 7.72c-.78.78-.78 2.05 0 2.83L4 21.41c.39.39.9.59 1.41.59.51 0 1.02-.2 1.41-.59l7.78-7.78 2.81-2.81c.8-.78.8-2.07 0-2.86zM5.41 20L4 18.59l7.72-7.72 1.47 1.35L5.41 20z\"/>\n",
              "  </svg>\n",
              "      </button>\n",
              "      \n",
              "  <style>\n",
              "    .colab-df-container {\n",
              "      display:flex;\n",
              "      flex-wrap:wrap;\n",
              "      gap: 12px;\n",
              "    }\n",
              "\n",
              "    .colab-df-convert {\n",
              "      background-color: #E8F0FE;\n",
              "      border: none;\n",
              "      border-radius: 50%;\n",
              "      cursor: pointer;\n",
              "      display: none;\n",
              "      fill: #1967D2;\n",
              "      height: 32px;\n",
              "      padding: 0 0 0 0;\n",
              "      width: 32px;\n",
              "    }\n",
              "\n",
              "    .colab-df-convert:hover {\n",
              "      background-color: #E2EBFA;\n",
              "      box-shadow: 0px 1px 2px rgba(60, 64, 67, 0.3), 0px 1px 3px 1px rgba(60, 64, 67, 0.15);\n",
              "      fill: #174EA6;\n",
              "    }\n",
              "\n",
              "    [theme=dark] .colab-df-convert {\n",
              "      background-color: #3B4455;\n",
              "      fill: #D2E3FC;\n",
              "    }\n",
              "\n",
              "    [theme=dark] .colab-df-convert:hover {\n",
              "      background-color: #434B5C;\n",
              "      box-shadow: 0px 1px 3px 1px rgba(0, 0, 0, 0.15);\n",
              "      filter: drop-shadow(0px 1px 2px rgba(0, 0, 0, 0.3));\n",
              "      fill: #FFFFFF;\n",
              "    }\n",
              "  </style>\n",
              "\n",
              "      <script>\n",
              "        const buttonEl =\n",
              "          document.querySelector('#df-72b19c03-dd8e-457e-87df-ce5412c5bac6 button.colab-df-convert');\n",
              "        buttonEl.style.display =\n",
              "          google.colab.kernel.accessAllowed ? 'block' : 'none';\n",
              "\n",
              "        async function convertToInteractive(key) {\n",
              "          const element = document.querySelector('#df-72b19c03-dd8e-457e-87df-ce5412c5bac6');\n",
              "          const dataTable =\n",
              "            await google.colab.kernel.invokeFunction('convertToInteractive',\n",
              "                                                     [key], {});\n",
              "          if (!dataTable) return;\n",
              "\n",
              "          const docLinkHtml = 'Like what you see? Visit the ' +\n",
              "            '<a target=\"_blank\" href=https://colab.research.google.com/notebooks/data_table.ipynb>data table notebook</a>'\n",
              "            + ' to learn more about interactive tables.';\n",
              "          element.innerHTML = '';\n",
              "          dataTable['output_type'] = 'display_data';\n",
              "          await google.colab.output.renderOutput(dataTable, element);\n",
              "          const docLink = document.createElement('div');\n",
              "          docLink.innerHTML = docLinkHtml;\n",
              "          element.appendChild(docLink);\n",
              "        }\n",
              "      </script>\n",
              "    </div>\n",
              "  </div>\n",
              "  "
            ]
          },
          "metadata": {},
          "execution_count": 89
        }
      ]
    },
    {
      "cell_type": "code",
      "source": [
        "# for the top 10 thin\n",
        "valDict={}\n",
        "for i in top10:\n",
        "    valDict[i]=tdf[i]\n",
        "tfIDF=pd.DataFrame(valDict)\n",
        "tfIDF.head()"
      ],
      "metadata": {
        "colab": {
          "base_uri": "https://localhost:8080/",
          "height": 143
        },
        "id": "RN7rDp50i6xb",
        "outputId": "075b5094-0b86-4b5a-a9d6-97acd24d50c0"
      },
      "execution_count": null,
      "outputs": [
        {
          "output_type": "execute_result",
          "data": {
            "text/plain": [
              "   room  hotel  bar  ask  bed  book  breakfast  floor  great  guest\n",
              "0     0      0    0    0    0     0          0      0      0      0\n",
              "1     0      0    0    0    0     0          0      0      0      0\n",
              "2     0      0    0    0    0     0          0      0      0      0"
            ],
            "text/html": [
              "\n",
              "  <div id=\"df-73f38a6c-3afb-4d21-bf94-6f1406ceb65d\">\n",
              "    <div class=\"colab-df-container\">\n",
              "      <div>\n",
              "<style scoped>\n",
              "    .dataframe tbody tr th:only-of-type {\n",
              "        vertical-align: middle;\n",
              "    }\n",
              "\n",
              "    .dataframe tbody tr th {\n",
              "        vertical-align: top;\n",
              "    }\n",
              "\n",
              "    .dataframe thead th {\n",
              "        text-align: right;\n",
              "    }\n",
              "</style>\n",
              "<table border=\"1\" class=\"dataframe\">\n",
              "  <thead>\n",
              "    <tr style=\"text-align: right;\">\n",
              "      <th></th>\n",
              "      <th>room</th>\n",
              "      <th>hotel</th>\n",
              "      <th>bar</th>\n",
              "      <th>ask</th>\n",
              "      <th>bed</th>\n",
              "      <th>book</th>\n",
              "      <th>breakfast</th>\n",
              "      <th>floor</th>\n",
              "      <th>great</th>\n",
              "      <th>guest</th>\n",
              "    </tr>\n",
              "  </thead>\n",
              "  <tbody>\n",
              "    <tr>\n",
              "      <th>0</th>\n",
              "      <td>0</td>\n",
              "      <td>0</td>\n",
              "      <td>0</td>\n",
              "      <td>0</td>\n",
              "      <td>0</td>\n",
              "      <td>0</td>\n",
              "      <td>0</td>\n",
              "      <td>0</td>\n",
              "      <td>0</td>\n",
              "      <td>0</td>\n",
              "    </tr>\n",
              "    <tr>\n",
              "      <th>1</th>\n",
              "      <td>0</td>\n",
              "      <td>0</td>\n",
              "      <td>0</td>\n",
              "      <td>0</td>\n",
              "      <td>0</td>\n",
              "      <td>0</td>\n",
              "      <td>0</td>\n",
              "      <td>0</td>\n",
              "      <td>0</td>\n",
              "      <td>0</td>\n",
              "    </tr>\n",
              "    <tr>\n",
              "      <th>2</th>\n",
              "      <td>0</td>\n",
              "      <td>0</td>\n",
              "      <td>0</td>\n",
              "      <td>0</td>\n",
              "      <td>0</td>\n",
              "      <td>0</td>\n",
              "      <td>0</td>\n",
              "      <td>0</td>\n",
              "      <td>0</td>\n",
              "      <td>0</td>\n",
              "    </tr>\n",
              "  </tbody>\n",
              "</table>\n",
              "</div>\n",
              "      <button class=\"colab-df-convert\" onclick=\"convertToInteractive('df-73f38a6c-3afb-4d21-bf94-6f1406ceb65d')\"\n",
              "              title=\"Convert this dataframe to an interactive table.\"\n",
              "              style=\"display:none;\">\n",
              "        \n",
              "  <svg xmlns=\"http://www.w3.org/2000/svg\" height=\"24px\"viewBox=\"0 0 24 24\"\n",
              "       width=\"24px\">\n",
              "    <path d=\"M0 0h24v24H0V0z\" fill=\"none\"/>\n",
              "    <path d=\"M18.56 5.44l.94 2.06.94-2.06 2.06-.94-2.06-.94-.94-2.06-.94 2.06-2.06.94zm-11 1L8.5 8.5l.94-2.06 2.06-.94-2.06-.94L8.5 2.5l-.94 2.06-2.06.94zm10 10l.94 2.06.94-2.06 2.06-.94-2.06-.94-.94-2.06-.94 2.06-2.06.94z\"/><path d=\"M17.41 7.96l-1.37-1.37c-.4-.4-.92-.59-1.43-.59-.52 0-1.04.2-1.43.59L10.3 9.45l-7.72 7.72c-.78.78-.78 2.05 0 2.83L4 21.41c.39.39.9.59 1.41.59.51 0 1.02-.2 1.41-.59l7.78-7.78 2.81-2.81c.8-.78.8-2.07 0-2.86zM5.41 20L4 18.59l7.72-7.72 1.47 1.35L5.41 20z\"/>\n",
              "  </svg>\n",
              "      </button>\n",
              "      \n",
              "  <style>\n",
              "    .colab-df-container {\n",
              "      display:flex;\n",
              "      flex-wrap:wrap;\n",
              "      gap: 12px;\n",
              "    }\n",
              "\n",
              "    .colab-df-convert {\n",
              "      background-color: #E8F0FE;\n",
              "      border: none;\n",
              "      border-radius: 50%;\n",
              "      cursor: pointer;\n",
              "      display: none;\n",
              "      fill: #1967D2;\n",
              "      height: 32px;\n",
              "      padding: 0 0 0 0;\n",
              "      width: 32px;\n",
              "    }\n",
              "\n",
              "    .colab-df-convert:hover {\n",
              "      background-color: #E2EBFA;\n",
              "      box-shadow: 0px 1px 2px rgba(60, 64, 67, 0.3), 0px 1px 3px 1px rgba(60, 64, 67, 0.15);\n",
              "      fill: #174EA6;\n",
              "    }\n",
              "\n",
              "    [theme=dark] .colab-df-convert {\n",
              "      background-color: #3B4455;\n",
              "      fill: #D2E3FC;\n",
              "    }\n",
              "\n",
              "    [theme=dark] .colab-df-convert:hover {\n",
              "      background-color: #434B5C;\n",
              "      box-shadow: 0px 1px 3px 1px rgba(0, 0, 0, 0.15);\n",
              "      filter: drop-shadow(0px 1px 2px rgba(0, 0, 0, 0.3));\n",
              "      fill: #FFFFFF;\n",
              "    }\n",
              "  </style>\n",
              "\n",
              "      <script>\n",
              "        const buttonEl =\n",
              "          document.querySelector('#df-73f38a6c-3afb-4d21-bf94-6f1406ceb65d button.colab-df-convert');\n",
              "        buttonEl.style.display =\n",
              "          google.colab.kernel.accessAllowed ? 'block' : 'none';\n",
              "\n",
              "        async function convertToInteractive(key) {\n",
              "          const element = document.querySelector('#df-73f38a6c-3afb-4d21-bf94-6f1406ceb65d');\n",
              "          const dataTable =\n",
              "            await google.colab.kernel.invokeFunction('convertToInteractive',\n",
              "                                                     [key], {});\n",
              "          if (!dataTable) return;\n",
              "\n",
              "          const docLinkHtml = 'Like what you see? Visit the ' +\n",
              "            '<a target=\"_blank\" href=https://colab.research.google.com/notebooks/data_table.ipynb>data table notebook</a>'\n",
              "            + ' to learn more about interactive tables.';\n",
              "          element.innerHTML = '';\n",
              "          dataTable['output_type'] = 'display_data';\n",
              "          await google.colab.output.renderOutput(dataTable, element);\n",
              "          const docLink = document.createElement('div');\n",
              "          docLink.innerHTML = docLinkHtml;\n",
              "          element.appendChild(docLink);\n",
              "        }\n",
              "      </script>\n",
              "    </div>\n",
              "  </div>\n",
              "  "
            ]
          },
          "metadata": {},
          "execution_count": 90
        }
      ]
    },
    {
      "cell_type": "code",
      "source": [
        "featureMat.index = tfIDF.index\n",
        "updatedMatrix=pd.concat([featureMat, tfIDF], axis=1)"
      ],
      "metadata": {
        "id": "Mtt6s0cJlzk7"
      },
      "execution_count": null,
      "outputs": []
    },
    {
      "cell_type": "code",
      "source": [
        "!pip install gensim"
      ],
      "metadata": {
        "colab": {
          "base_uri": "https://localhost:8080/"
        },
        "id": "0zf5Eql0lzqt",
        "outputId": "88d5ab1e-ef69-4052-9497-b5bd4fead343"
      },
      "execution_count": null,
      "outputs": [
        {
          "output_type": "stream",
          "name": "stdout",
          "text": [
            "Requirement already satisfied: gensim in /usr/local/lib/python3.7/dist-packages (3.6.0)\n",
            "Requirement already satisfied: numpy>=1.11.3 in /usr/local/lib/python3.7/dist-packages (from gensim) (1.21.5)\n",
            "Requirement already satisfied: smart-open>=1.2.1 in /usr/local/lib/python3.7/dist-packages (from gensim) (5.2.1)\n",
            "Requirement already satisfied: scipy>=0.18.1 in /usr/local/lib/python3.7/dist-packages (from gensim) (1.4.1)\n",
            "Requirement already satisfied: six>=1.5.0 in /usr/local/lib/python3.7/dist-packages (from gensim) (1.15.0)\n"
          ]
        }
      ]
    },
    {
      "cell_type": "code",
      "source": [
        "ser=pd.Series(cleaned)\n",
        "tokenedData=ser.apply(lambda x:x.split())\n",
        "model = Word2Vec(sentences=ser,size=100, window=5,workers=4,sg=1)\n",
        "model.train(ser,total_examples=len(ser),epochs=14)"
      ],
      "metadata": {
        "colab": {
          "base_uri": "https://localhost:8080/"
        },
        "id": "HisCU_Ytlzut",
        "outputId": "3fc66cd8-97eb-49f2-9c23-55622eb36cdf"
      },
      "execution_count": null,
      "outputs": [
        {
          "output_type": "execute_result",
          "data": {
            "text/plain": [
              "(4551, 25620)"
            ]
          },
          "metadata": {},
          "execution_count": 128
        }
      ]
    },
    {
      "cell_type": "code",
      "source": [
        "def makeFeatureVec(words):\n",
        "#     print(words)\n",
        "    feature_vec = np.zeros((100,),dtype=\"float32\") \n",
        "    for word in words:\n",
        "        try:\n",
        "            feature_vec = np.add(feature_vec,model.wv[word])\n",
        "        except:\n",
        "            continue\n",
        "    return feature_vec\n",
        "def avgVectors(reviews):\n",
        "    counter = 0\n",
        "    review_feature_vecs = np.zeros((len(reviews),100), dtype='float32')\n",
        "    for review in reviews:\n",
        "        review_feature_vecs[counter] = makeFeatureVec(review)\n",
        "        counter = counter + 1\n",
        "    return review_feature_vecs"
      ],
      "metadata": {
        "id": "IHy9FOgylzyO"
      },
      "execution_count": null,
      "outputs": []
    },
    {
      "cell_type": "code",
      "source": [
        "trainDataVecs = avgVectors(cleaned)"
      ],
      "metadata": {
        "id": "-ZA7EevDlz1c"
      },
      "execution_count": null,
      "outputs": []
    },
    {
      "cell_type": "code",
      "source": [
        "word2VecFrame = pd.DataFrame(trainDataVecs)"
      ],
      "metadata": {
        "id": "8xE_lYUklz4r"
      },
      "execution_count": null,
      "outputs": []
    },
    {
      "cell_type": "code",
      "source": [
        "namesDict={}\n",
        "for i in range(0,len(word2VecFrame.columns)):\n",
        "  namesDict[word2VecFrame.columns[i]]= 'word2Vec' + str(word2VecFrame.columns[i]) \n",
        "word2VecFrame.rename(columns = namesDict, inplace = True)"
      ],
      "metadata": {
        "id": "JJH6OfTwpg1D"
      },
      "execution_count": null,
      "outputs": []
    },
    {
      "cell_type": "code",
      "source": [
        "updatedMatrix.index = word2VecFrame.index\n",
        "featuresMat=pd.concat([featureMat, word2VecFrame], axis=1)"
      ],
      "metadata": {
        "id": "tZHbSC_Ylz7o"
      },
      "execution_count": null,
      "outputs": []
    },
    {
      "cell_type": "code",
      "source": [
        "featuresMat"
      ],
      "metadata": {
        "colab": {
          "base_uri": "https://localhost:8080/",
          "height": 237
        },
        "id": "uMSd-1T3lz-w",
        "outputId": "718d7e71-42f9-44ca-b92d-7182d06058bc"
      },
      "execution_count": null,
      "outputs": [
        {
          "output_type": "execute_result",
          "data": {
            "text/plain": [
              "   ExclamationsCount  QuestionMarkCount  SemiColonsCount  Subjectivity_Score  \\\n",
              "0                  1                  0                0            0.574914   \n",
              "1                  1                  0                0            0.646875   \n",
              "2                  1                  0                0            0.439474   \n",
              "\n",
              "   positiveWords  negativeWords  neutralWords  word2Vec0  word2Vec1  \\\n",
              "0              3              4            93  86.809799  75.774940   \n",
              "1              0              3            27  24.611383  21.494400   \n",
              "2              4              1            76  66.499519  57.949409   \n",
              "\n",
              "   word2Vec2  ...  word2Vec90  word2Vec91  word2Vec92  word2Vec93  word2Vec94  \\\n",
              "0 -52.281208  ...   11.505980  -20.491989    2.683457  -39.911461 -182.332260   \n",
              "1 -14.851165  ...    3.236446   -5.778812    0.773100  -11.305467  -51.851768   \n",
              "2 -40.116425  ...    8.966373  -15.679215    2.173076  -30.451765 -139.628525   \n",
              "\n",
              "   word2Vec95  word2Vec96  word2Vec97  word2Vec98  word2Vec99  \n",
              "0 -106.988853  -25.360683  -78.786285  -85.401642   98.893898  \n",
              "1  -30.387161   -7.171172  -22.408722  -24.283678   28.037033  \n",
              "2  -81.767532  -19.309048  -60.332039  -65.504517   75.714760  \n",
              "\n",
              "[3 rows x 107 columns]"
            ],
            "text/html": [
              "\n",
              "  <div id=\"df-311ef603-6aa7-4378-a7dd-abfde3166140\">\n",
              "    <div class=\"colab-df-container\">\n",
              "      <div>\n",
              "<style scoped>\n",
              "    .dataframe tbody tr th:only-of-type {\n",
              "        vertical-align: middle;\n",
              "    }\n",
              "\n",
              "    .dataframe tbody tr th {\n",
              "        vertical-align: top;\n",
              "    }\n",
              "\n",
              "    .dataframe thead th {\n",
              "        text-align: right;\n",
              "    }\n",
              "</style>\n",
              "<table border=\"1\" class=\"dataframe\">\n",
              "  <thead>\n",
              "    <tr style=\"text-align: right;\">\n",
              "      <th></th>\n",
              "      <th>ExclamationsCount</th>\n",
              "      <th>QuestionMarkCount</th>\n",
              "      <th>SemiColonsCount</th>\n",
              "      <th>Subjectivity_Score</th>\n",
              "      <th>positiveWords</th>\n",
              "      <th>negativeWords</th>\n",
              "      <th>neutralWords</th>\n",
              "      <th>word2Vec0</th>\n",
              "      <th>word2Vec1</th>\n",
              "      <th>word2Vec2</th>\n",
              "      <th>...</th>\n",
              "      <th>word2Vec90</th>\n",
              "      <th>word2Vec91</th>\n",
              "      <th>word2Vec92</th>\n",
              "      <th>word2Vec93</th>\n",
              "      <th>word2Vec94</th>\n",
              "      <th>word2Vec95</th>\n",
              "      <th>word2Vec96</th>\n",
              "      <th>word2Vec97</th>\n",
              "      <th>word2Vec98</th>\n",
              "      <th>word2Vec99</th>\n",
              "    </tr>\n",
              "  </thead>\n",
              "  <tbody>\n",
              "    <tr>\n",
              "      <th>0</th>\n",
              "      <td>1</td>\n",
              "      <td>0</td>\n",
              "      <td>0</td>\n",
              "      <td>0.574914</td>\n",
              "      <td>3</td>\n",
              "      <td>4</td>\n",
              "      <td>93</td>\n",
              "      <td>86.809799</td>\n",
              "      <td>75.774940</td>\n",
              "      <td>-52.281208</td>\n",
              "      <td>...</td>\n",
              "      <td>11.505980</td>\n",
              "      <td>-20.491989</td>\n",
              "      <td>2.683457</td>\n",
              "      <td>-39.911461</td>\n",
              "      <td>-182.332260</td>\n",
              "      <td>-106.988853</td>\n",
              "      <td>-25.360683</td>\n",
              "      <td>-78.786285</td>\n",
              "      <td>-85.401642</td>\n",
              "      <td>98.893898</td>\n",
              "    </tr>\n",
              "    <tr>\n",
              "      <th>1</th>\n",
              "      <td>1</td>\n",
              "      <td>0</td>\n",
              "      <td>0</td>\n",
              "      <td>0.646875</td>\n",
              "      <td>0</td>\n",
              "      <td>3</td>\n",
              "      <td>27</td>\n",
              "      <td>24.611383</td>\n",
              "      <td>21.494400</td>\n",
              "      <td>-14.851165</td>\n",
              "      <td>...</td>\n",
              "      <td>3.236446</td>\n",
              "      <td>-5.778812</td>\n",
              "      <td>0.773100</td>\n",
              "      <td>-11.305467</td>\n",
              "      <td>-51.851768</td>\n",
              "      <td>-30.387161</td>\n",
              "      <td>-7.171172</td>\n",
              "      <td>-22.408722</td>\n",
              "      <td>-24.283678</td>\n",
              "      <td>28.037033</td>\n",
              "    </tr>\n",
              "    <tr>\n",
              "      <th>2</th>\n",
              "      <td>1</td>\n",
              "      <td>0</td>\n",
              "      <td>0</td>\n",
              "      <td>0.439474</td>\n",
              "      <td>4</td>\n",
              "      <td>1</td>\n",
              "      <td>76</td>\n",
              "      <td>66.499519</td>\n",
              "      <td>57.949409</td>\n",
              "      <td>-40.116425</td>\n",
              "      <td>...</td>\n",
              "      <td>8.966373</td>\n",
              "      <td>-15.679215</td>\n",
              "      <td>2.173076</td>\n",
              "      <td>-30.451765</td>\n",
              "      <td>-139.628525</td>\n",
              "      <td>-81.767532</td>\n",
              "      <td>-19.309048</td>\n",
              "      <td>-60.332039</td>\n",
              "      <td>-65.504517</td>\n",
              "      <td>75.714760</td>\n",
              "    </tr>\n",
              "  </tbody>\n",
              "</table>\n",
              "<p>3 rows × 107 columns</p>\n",
              "</div>\n",
              "      <button class=\"colab-df-convert\" onclick=\"convertToInteractive('df-311ef603-6aa7-4378-a7dd-abfde3166140')\"\n",
              "              title=\"Convert this dataframe to an interactive table.\"\n",
              "              style=\"display:none;\">\n",
              "        \n",
              "  <svg xmlns=\"http://www.w3.org/2000/svg\" height=\"24px\"viewBox=\"0 0 24 24\"\n",
              "       width=\"24px\">\n",
              "    <path d=\"M0 0h24v24H0V0z\" fill=\"none\"/>\n",
              "    <path d=\"M18.56 5.44l.94 2.06.94-2.06 2.06-.94-2.06-.94-.94-2.06-.94 2.06-2.06.94zm-11 1L8.5 8.5l.94-2.06 2.06-.94-2.06-.94L8.5 2.5l-.94 2.06-2.06.94zm10 10l.94 2.06.94-2.06 2.06-.94-2.06-.94-.94-2.06-.94 2.06-2.06.94z\"/><path d=\"M17.41 7.96l-1.37-1.37c-.4-.4-.92-.59-1.43-.59-.52 0-1.04.2-1.43.59L10.3 9.45l-7.72 7.72c-.78.78-.78 2.05 0 2.83L4 21.41c.39.39.9.59 1.41.59.51 0 1.02-.2 1.41-.59l7.78-7.78 2.81-2.81c.8-.78.8-2.07 0-2.86zM5.41 20L4 18.59l7.72-7.72 1.47 1.35L5.41 20z\"/>\n",
              "  </svg>\n",
              "      </button>\n",
              "      \n",
              "  <style>\n",
              "    .colab-df-container {\n",
              "      display:flex;\n",
              "      flex-wrap:wrap;\n",
              "      gap: 12px;\n",
              "    }\n",
              "\n",
              "    .colab-df-convert {\n",
              "      background-color: #E8F0FE;\n",
              "      border: none;\n",
              "      border-radius: 50%;\n",
              "      cursor: pointer;\n",
              "      display: none;\n",
              "      fill: #1967D2;\n",
              "      height: 32px;\n",
              "      padding: 0 0 0 0;\n",
              "      width: 32px;\n",
              "    }\n",
              "\n",
              "    .colab-df-convert:hover {\n",
              "      background-color: #E2EBFA;\n",
              "      box-shadow: 0px 1px 2px rgba(60, 64, 67, 0.3), 0px 1px 3px 1px rgba(60, 64, 67, 0.15);\n",
              "      fill: #174EA6;\n",
              "    }\n",
              "\n",
              "    [theme=dark] .colab-df-convert {\n",
              "      background-color: #3B4455;\n",
              "      fill: #D2E3FC;\n",
              "    }\n",
              "\n",
              "    [theme=dark] .colab-df-convert:hover {\n",
              "      background-color: #434B5C;\n",
              "      box-shadow: 0px 1px 3px 1px rgba(0, 0, 0, 0.15);\n",
              "      filter: drop-shadow(0px 1px 2px rgba(0, 0, 0, 0.3));\n",
              "      fill: #FFFFFF;\n",
              "    }\n",
              "  </style>\n",
              "\n",
              "      <script>\n",
              "        const buttonEl =\n",
              "          document.querySelector('#df-311ef603-6aa7-4378-a7dd-abfde3166140 button.colab-df-convert');\n",
              "        buttonEl.style.display =\n",
              "          google.colab.kernel.accessAllowed ? 'block' : 'none';\n",
              "\n",
              "        async function convertToInteractive(key) {\n",
              "          const element = document.querySelector('#df-311ef603-6aa7-4378-a7dd-abfde3166140');\n",
              "          const dataTable =\n",
              "            await google.colab.kernel.invokeFunction('convertToInteractive',\n",
              "                                                     [key], {});\n",
              "          if (!dataTable) return;\n",
              "\n",
              "          const docLinkHtml = 'Like what you see? Visit the ' +\n",
              "            '<a target=\"_blank\" href=https://colab.research.google.com/notebooks/data_table.ipynb>data table notebook</a>'\n",
              "            + ' to learn more about interactive tables.';\n",
              "          element.innerHTML = '';\n",
              "          dataTable['output_type'] = 'display_data';\n",
              "          await google.colab.output.renderOutput(dataTable, element);\n",
              "          const docLink = document.createElement('div');\n",
              "          docLink.innerHTML = docLinkHtml;\n",
              "          element.appendChild(docLink);\n",
              "        }\n",
              "      </script>\n",
              "    </div>\n",
              "  </div>\n",
              "  "
            ]
          },
          "metadata": {},
          "execution_count": 157
        }
      ]
    },
    {
      "cell_type": "code",
      "source": [
        "!pip install tensorflow_text"
      ],
      "metadata": {
        "colab": {
          "base_uri": "https://localhost:8080/"
        },
        "id": "C4W8AUYGl0B7",
        "outputId": "dfb6d3e9-92ed-4528-ae4f-e48e75dc8faf"
      },
      "execution_count": null,
      "outputs": [
        {
          "output_type": "stream",
          "name": "stdout",
          "text": [
            "Collecting tensorflow_text\n",
            "  Downloading tensorflow_text-2.8.1-cp37-cp37m-manylinux_2_12_x86_64.manylinux2010_x86_64.whl (4.9 MB)\n",
            "\u001b[K     |████████████████████████████████| 4.9 MB 25.8 MB/s \n",
            "\u001b[?25hRequirement already satisfied: tensorflow-hub>=0.8.0 in /usr/local/lib/python3.7/dist-packages (from tensorflow_text) (0.12.0)\n",
            "Requirement already satisfied: tensorflow<2.9,>=2.8.0 in /usr/local/lib/python3.7/dist-packages (from tensorflow_text) (2.8.0)\n",
            "Collecting tf-estimator-nightly==2.8.0.dev2021122109\n",
            "  Downloading tf_estimator_nightly-2.8.0.dev2021122109-py2.py3-none-any.whl (462 kB)\n",
            "\u001b[K     |████████████████████████████████| 462 kB 55.3 MB/s \n",
            "\u001b[?25hRequirement already satisfied: protobuf>=3.9.2 in /usr/local/lib/python3.7/dist-packages (from tensorflow<2.9,>=2.8.0->tensorflow_text) (3.17.3)\n",
            "Requirement already satisfied: numpy>=1.20 in /usr/local/lib/python3.7/dist-packages (from tensorflow<2.9,>=2.8.0->tensorflow_text) (1.21.5)\n",
            "Requirement already satisfied: opt-einsum>=2.3.2 in /usr/local/lib/python3.7/dist-packages (from tensorflow<2.9,>=2.8.0->tensorflow_text) (3.3.0)\n",
            "Requirement already satisfied: google-pasta>=0.1.1 in /usr/local/lib/python3.7/dist-packages (from tensorflow<2.9,>=2.8.0->tensorflow_text) (0.2.0)\n",
            "Requirement already satisfied: grpcio<2.0,>=1.24.3 in /usr/local/lib/python3.7/dist-packages (from tensorflow<2.9,>=2.8.0->tensorflow_text) (1.44.0)\n",
            "Requirement already satisfied: typing-extensions>=3.6.6 in /usr/local/lib/python3.7/dist-packages (from tensorflow<2.9,>=2.8.0->tensorflow_text) (3.10.0.2)\n",
            "Requirement already satisfied: flatbuffers>=1.12 in /usr/local/lib/python3.7/dist-packages (from tensorflow<2.9,>=2.8.0->tensorflow_text) (2.0)\n",
            "Requirement already satisfied: gast>=0.2.1 in /usr/local/lib/python3.7/dist-packages (from tensorflow<2.9,>=2.8.0->tensorflow_text) (0.5.3)\n",
            "Requirement already satisfied: absl-py>=0.4.0 in /usr/local/lib/python3.7/dist-packages (from tensorflow<2.9,>=2.8.0->tensorflow_text) (1.0.0)\n",
            "Requirement already satisfied: setuptools in /usr/local/lib/python3.7/dist-packages (from tensorflow<2.9,>=2.8.0->tensorflow_text) (57.4.0)\n",
            "Requirement already satisfied: termcolor>=1.1.0 in /usr/local/lib/python3.7/dist-packages (from tensorflow<2.9,>=2.8.0->tensorflow_text) (1.1.0)\n",
            "Requirement already satisfied: wrapt>=1.11.0 in /usr/local/lib/python3.7/dist-packages (from tensorflow<2.9,>=2.8.0->tensorflow_text) (1.14.0)\n",
            "Requirement already satisfied: six>=1.12.0 in /usr/local/lib/python3.7/dist-packages (from tensorflow<2.9,>=2.8.0->tensorflow_text) (1.15.0)\n",
            "Requirement already satisfied: astunparse>=1.6.0 in /usr/local/lib/python3.7/dist-packages (from tensorflow<2.9,>=2.8.0->tensorflow_text) (1.6.3)\n",
            "Requirement already satisfied: tensorboard<2.9,>=2.8 in /usr/local/lib/python3.7/dist-packages (from tensorflow<2.9,>=2.8.0->tensorflow_text) (2.8.0)\n",
            "Requirement already satisfied: h5py>=2.9.0 in /usr/local/lib/python3.7/dist-packages (from tensorflow<2.9,>=2.8.0->tensorflow_text) (3.1.0)\n",
            "Requirement already satisfied: keras-preprocessing>=1.1.1 in /usr/local/lib/python3.7/dist-packages (from tensorflow<2.9,>=2.8.0->tensorflow_text) (1.1.2)\n",
            "Requirement already satisfied: keras<2.9,>=2.8.0rc0 in /usr/local/lib/python3.7/dist-packages (from tensorflow<2.9,>=2.8.0->tensorflow_text) (2.8.0)\n",
            "Requirement already satisfied: tensorflow-io-gcs-filesystem>=0.23.1 in /usr/local/lib/python3.7/dist-packages (from tensorflow<2.9,>=2.8.0->tensorflow_text) (0.24.0)\n",
            "Requirement already satisfied: libclang>=9.0.1 in /usr/local/lib/python3.7/dist-packages (from tensorflow<2.9,>=2.8.0->tensorflow_text) (13.0.0)\n",
            "Requirement already satisfied: wheel<1.0,>=0.23.0 in /usr/local/lib/python3.7/dist-packages (from astunparse>=1.6.0->tensorflow<2.9,>=2.8.0->tensorflow_text) (0.37.1)\n",
            "Requirement already satisfied: cached-property in /usr/local/lib/python3.7/dist-packages (from h5py>=2.9.0->tensorflow<2.9,>=2.8.0->tensorflow_text) (1.5.2)\n",
            "Requirement already satisfied: werkzeug>=0.11.15 in /usr/local/lib/python3.7/dist-packages (from tensorboard<2.9,>=2.8->tensorflow<2.9,>=2.8.0->tensorflow_text) (1.0.1)\n",
            "Requirement already satisfied: google-auth<3,>=1.6.3 in /usr/local/lib/python3.7/dist-packages (from tensorboard<2.9,>=2.8->tensorflow<2.9,>=2.8.0->tensorflow_text) (1.35.0)\n",
            "Requirement already satisfied: requests<3,>=2.21.0 in /usr/local/lib/python3.7/dist-packages (from tensorboard<2.9,>=2.8->tensorflow<2.9,>=2.8.0->tensorflow_text) (2.23.0)\n",
            "Requirement already satisfied: markdown>=2.6.8 in /usr/local/lib/python3.7/dist-packages (from tensorboard<2.9,>=2.8->tensorflow<2.9,>=2.8.0->tensorflow_text) (3.3.6)\n",
            "Requirement already satisfied: tensorboard-data-server<0.7.0,>=0.6.0 in /usr/local/lib/python3.7/dist-packages (from tensorboard<2.9,>=2.8->tensorflow<2.9,>=2.8.0->tensorflow_text) (0.6.1)\n",
            "Requirement already satisfied: google-auth-oauthlib<0.5,>=0.4.1 in /usr/local/lib/python3.7/dist-packages (from tensorboard<2.9,>=2.8->tensorflow<2.9,>=2.8.0->tensorflow_text) (0.4.6)\n",
            "Requirement already satisfied: tensorboard-plugin-wit>=1.6.0 in /usr/local/lib/python3.7/dist-packages (from tensorboard<2.9,>=2.8->tensorflow<2.9,>=2.8.0->tensorflow_text) (1.8.1)\n",
            "Requirement already satisfied: rsa<5,>=3.1.4 in /usr/local/lib/python3.7/dist-packages (from google-auth<3,>=1.6.3->tensorboard<2.9,>=2.8->tensorflow<2.9,>=2.8.0->tensorflow_text) (4.8)\n",
            "Requirement already satisfied: cachetools<5.0,>=2.0.0 in /usr/local/lib/python3.7/dist-packages (from google-auth<3,>=1.6.3->tensorboard<2.9,>=2.8->tensorflow<2.9,>=2.8.0->tensorflow_text) (4.2.4)\n",
            "Requirement already satisfied: pyasn1-modules>=0.2.1 in /usr/local/lib/python3.7/dist-packages (from google-auth<3,>=1.6.3->tensorboard<2.9,>=2.8->tensorflow<2.9,>=2.8.0->tensorflow_text) (0.2.8)\n",
            "Requirement already satisfied: requests-oauthlib>=0.7.0 in /usr/local/lib/python3.7/dist-packages (from google-auth-oauthlib<0.5,>=0.4.1->tensorboard<2.9,>=2.8->tensorflow<2.9,>=2.8.0->tensorflow_text) (1.3.1)\n",
            "Requirement already satisfied: importlib-metadata>=4.4 in /usr/local/lib/python3.7/dist-packages (from markdown>=2.6.8->tensorboard<2.9,>=2.8->tensorflow<2.9,>=2.8.0->tensorflow_text) (4.11.3)\n",
            "Requirement already satisfied: zipp>=0.5 in /usr/local/lib/python3.7/dist-packages (from importlib-metadata>=4.4->markdown>=2.6.8->tensorboard<2.9,>=2.8->tensorflow<2.9,>=2.8.0->tensorflow_text) (3.7.0)\n",
            "Requirement already satisfied: pyasn1<0.5.0,>=0.4.6 in /usr/local/lib/python3.7/dist-packages (from pyasn1-modules>=0.2.1->google-auth<3,>=1.6.3->tensorboard<2.9,>=2.8->tensorflow<2.9,>=2.8.0->tensorflow_text) (0.4.8)\n",
            "Requirement already satisfied: urllib3!=1.25.0,!=1.25.1,<1.26,>=1.21.1 in /usr/local/lib/python3.7/dist-packages (from requests<3,>=2.21.0->tensorboard<2.9,>=2.8->tensorflow<2.9,>=2.8.0->tensorflow_text) (1.24.3)\n",
            "Requirement already satisfied: chardet<4,>=3.0.2 in /usr/local/lib/python3.7/dist-packages (from requests<3,>=2.21.0->tensorboard<2.9,>=2.8->tensorflow<2.9,>=2.8.0->tensorflow_text) (3.0.4)\n",
            "Requirement already satisfied: idna<3,>=2.5 in /usr/local/lib/python3.7/dist-packages (from requests<3,>=2.21.0->tensorboard<2.9,>=2.8->tensorflow<2.9,>=2.8.0->tensorflow_text) (2.10)\n",
            "Requirement already satisfied: certifi>=2017.4.17 in /usr/local/lib/python3.7/dist-packages (from requests<3,>=2.21.0->tensorboard<2.9,>=2.8->tensorflow<2.9,>=2.8.0->tensorflow_text) (2021.10.8)\n",
            "Requirement already satisfied: oauthlib>=3.0.0 in /usr/local/lib/python3.7/dist-packages (from requests-oauthlib>=0.7.0->google-auth-oauthlib<0.5,>=0.4.1->tensorboard<2.9,>=2.8->tensorflow<2.9,>=2.8.0->tensorflow_text) (3.2.0)\n",
            "Installing collected packages: tf-estimator-nightly, tensorflow-text\n",
            "Successfully installed tensorflow-text-2.8.1 tf-estimator-nightly-2.8.0.dev2021122109\n"
          ]
        }
      ]
    },
    {
      "cell_type": "code",
      "source": [
        "# libraries\n",
        "import tensorflow_hub as hub\n",
        "import tensorflow_text\n",
        "import numpy as np\n",
        "import pandas as pd"
      ],
      "metadata": {
        "id": "2Q12d_Jxl0Ew"
      },
      "execution_count": null,
      "outputs": []
    },
    {
      "cell_type": "code",
      "source": [
        "# bert preprocessorhttps://tfhub.dev/tensorflow/bert_en_uncased_preprocess/3\n",
        "preprocessor = hub.KerasLayer(\"https://tfhub.dev/tensorflow/bert_en_uncased_preprocess/3\")\n",
        "# bert encoder https://tfhub.dev/tensorflow/small_bert/bert_en_uncased_L-12_H-512_A-8/2\n",
        "# encoder = hub.KerasLayer(\"https://tfhub.dev/tensorflow/bert_en_uncased_L-24_H-1024_A-16/4\",trainable=True)\n",
        "encoder = hub.KerasLayer(\"https://tfhub.dev/tensorflow/small_bert/bert_en_uncased_L-12_H-512_A-8/2\",trainable=True)"
      ],
      "metadata": {
        "id": "X7DDAc6Kl0J_"
      },
      "execution_count": null,
      "outputs": []
    },
    {
      "cell_type": "code",
      "source": [
        "# preprocessing dataset adding cls sep etc \n",
        "# slicing reviews due to unsufficient resources\n",
        "inputs = preprocessor(cleaned)\n",
        "# feeding it to model for vectorization\n",
        "outputs = encoder(inputs)"
      ],
      "metadata": {
        "id": "E3ydQhTPqxMs"
      },
      "execution_count": null,
      "outputs": []
    },
    {
      "cell_type": "code",
      "source": [
        "temp=pd.DataFrame()\n",
        "for i in range(0,len(outputs['sequence_output'])):\n",
        "  b=outputs['sequence_output'][i].numpy().sum(axis=0)\n",
        "  temp=temp.append(pd.Series(b),ignore_index=True)\n",
        "print('values added in dataframe')"
      ],
      "metadata": {
        "colab": {
          "base_uri": "https://localhost:8080/"
        },
        "id": "FWx472AqqxQs",
        "outputId": "2e7a2420-3922-42fd-8e30-5b0acedfaef9"
      },
      "execution_count": null,
      "outputs": [
        {
          "output_type": "stream",
          "name": "stdout",
          "text": [
            "values added in dataframe\n"
          ]
        }
      ]
    },
    {
      "cell_type": "code",
      "source": [
        "temp.index = featuresMat.index\n",
        "featureMat=pd.concat([temp, featuresMat], axis=1)\n",
        "featureMat.head()"
      ],
      "metadata": {
        "colab": {
          "base_uri": "https://localhost:8080/",
          "height": 237
        },
        "id": "H-Qs38dcqxUB",
        "outputId": "a3d2a7f9-0571-456f-f695-c8a43eb4bf05"
      },
      "execution_count": null,
      "outputs": [
        {
          "output_type": "execute_result",
          "data": {
            "text/plain": [
              "           0          1          2          3          4          5  \\\n",
              "0  41.510395  35.285660  -5.240277 -33.980553  15.383636  -8.030009   \n",
              "1  55.255733   3.440856 -17.169939 -35.548088 -29.446119 -34.797497   \n",
              "2  66.850044   2.580216  29.234505 -20.586494  -8.552543 -37.084141   \n",
              "\n",
              "           6          7          8          9  ...  word2Vec90  word2Vec91  \\\n",
              "0  95.334404   9.543857 -45.058701 -14.178946  ...   11.505980  -20.491989   \n",
              "1   1.062917 -19.378189   4.180927  -1.396281  ...    3.236446   -5.778812   \n",
              "2  94.446205   2.881490 -32.878109  -1.455382  ...    8.966373  -15.679215   \n",
              "\n",
              "   word2Vec92  word2Vec93  word2Vec94  word2Vec95  word2Vec96  word2Vec97  \\\n",
              "0    2.683457  -39.911461 -182.332260 -106.988853  -25.360683  -78.786285   \n",
              "1    0.773100  -11.305467  -51.851768  -30.387161   -7.171172  -22.408722   \n",
              "2    2.173076  -30.451765 -139.628525  -81.767532  -19.309048  -60.332039   \n",
              "\n",
              "   word2Vec98  word2Vec99  \n",
              "0  -85.401642   98.893898  \n",
              "1  -24.283678   28.037033  \n",
              "2  -65.504517   75.714760  \n",
              "\n",
              "[3 rows x 619 columns]"
            ],
            "text/html": [
              "\n",
              "  <div id=\"df-7265552c-9b5c-40b0-8e8d-5c00611e07e1\">\n",
              "    <div class=\"colab-df-container\">\n",
              "      <div>\n",
              "<style scoped>\n",
              "    .dataframe tbody tr th:only-of-type {\n",
              "        vertical-align: middle;\n",
              "    }\n",
              "\n",
              "    .dataframe tbody tr th {\n",
              "        vertical-align: top;\n",
              "    }\n",
              "\n",
              "    .dataframe thead th {\n",
              "        text-align: right;\n",
              "    }\n",
              "</style>\n",
              "<table border=\"1\" class=\"dataframe\">\n",
              "  <thead>\n",
              "    <tr style=\"text-align: right;\">\n",
              "      <th></th>\n",
              "      <th>0</th>\n",
              "      <th>1</th>\n",
              "      <th>2</th>\n",
              "      <th>3</th>\n",
              "      <th>4</th>\n",
              "      <th>5</th>\n",
              "      <th>6</th>\n",
              "      <th>7</th>\n",
              "      <th>8</th>\n",
              "      <th>9</th>\n",
              "      <th>...</th>\n",
              "      <th>word2Vec90</th>\n",
              "      <th>word2Vec91</th>\n",
              "      <th>word2Vec92</th>\n",
              "      <th>word2Vec93</th>\n",
              "      <th>word2Vec94</th>\n",
              "      <th>word2Vec95</th>\n",
              "      <th>word2Vec96</th>\n",
              "      <th>word2Vec97</th>\n",
              "      <th>word2Vec98</th>\n",
              "      <th>word2Vec99</th>\n",
              "    </tr>\n",
              "  </thead>\n",
              "  <tbody>\n",
              "    <tr>\n",
              "      <th>0</th>\n",
              "      <td>41.510395</td>\n",
              "      <td>35.285660</td>\n",
              "      <td>-5.240277</td>\n",
              "      <td>-33.980553</td>\n",
              "      <td>15.383636</td>\n",
              "      <td>-8.030009</td>\n",
              "      <td>95.334404</td>\n",
              "      <td>9.543857</td>\n",
              "      <td>-45.058701</td>\n",
              "      <td>-14.178946</td>\n",
              "      <td>...</td>\n",
              "      <td>11.505980</td>\n",
              "      <td>-20.491989</td>\n",
              "      <td>2.683457</td>\n",
              "      <td>-39.911461</td>\n",
              "      <td>-182.332260</td>\n",
              "      <td>-106.988853</td>\n",
              "      <td>-25.360683</td>\n",
              "      <td>-78.786285</td>\n",
              "      <td>-85.401642</td>\n",
              "      <td>98.893898</td>\n",
              "    </tr>\n",
              "    <tr>\n",
              "      <th>1</th>\n",
              "      <td>55.255733</td>\n",
              "      <td>3.440856</td>\n",
              "      <td>-17.169939</td>\n",
              "      <td>-35.548088</td>\n",
              "      <td>-29.446119</td>\n",
              "      <td>-34.797497</td>\n",
              "      <td>1.062917</td>\n",
              "      <td>-19.378189</td>\n",
              "      <td>4.180927</td>\n",
              "      <td>-1.396281</td>\n",
              "      <td>...</td>\n",
              "      <td>3.236446</td>\n",
              "      <td>-5.778812</td>\n",
              "      <td>0.773100</td>\n",
              "      <td>-11.305467</td>\n",
              "      <td>-51.851768</td>\n",
              "      <td>-30.387161</td>\n",
              "      <td>-7.171172</td>\n",
              "      <td>-22.408722</td>\n",
              "      <td>-24.283678</td>\n",
              "      <td>28.037033</td>\n",
              "    </tr>\n",
              "    <tr>\n",
              "      <th>2</th>\n",
              "      <td>66.850044</td>\n",
              "      <td>2.580216</td>\n",
              "      <td>29.234505</td>\n",
              "      <td>-20.586494</td>\n",
              "      <td>-8.552543</td>\n",
              "      <td>-37.084141</td>\n",
              "      <td>94.446205</td>\n",
              "      <td>2.881490</td>\n",
              "      <td>-32.878109</td>\n",
              "      <td>-1.455382</td>\n",
              "      <td>...</td>\n",
              "      <td>8.966373</td>\n",
              "      <td>-15.679215</td>\n",
              "      <td>2.173076</td>\n",
              "      <td>-30.451765</td>\n",
              "      <td>-139.628525</td>\n",
              "      <td>-81.767532</td>\n",
              "      <td>-19.309048</td>\n",
              "      <td>-60.332039</td>\n",
              "      <td>-65.504517</td>\n",
              "      <td>75.714760</td>\n",
              "    </tr>\n",
              "  </tbody>\n",
              "</table>\n",
              "<p>3 rows × 619 columns</p>\n",
              "</div>\n",
              "      <button class=\"colab-df-convert\" onclick=\"convertToInteractive('df-7265552c-9b5c-40b0-8e8d-5c00611e07e1')\"\n",
              "              title=\"Convert this dataframe to an interactive table.\"\n",
              "              style=\"display:none;\">\n",
              "        \n",
              "  <svg xmlns=\"http://www.w3.org/2000/svg\" height=\"24px\"viewBox=\"0 0 24 24\"\n",
              "       width=\"24px\">\n",
              "    <path d=\"M0 0h24v24H0V0z\" fill=\"none\"/>\n",
              "    <path d=\"M18.56 5.44l.94 2.06.94-2.06 2.06-.94-2.06-.94-.94-2.06-.94 2.06-2.06.94zm-11 1L8.5 8.5l.94-2.06 2.06-.94-2.06-.94L8.5 2.5l-.94 2.06-2.06.94zm10 10l.94 2.06.94-2.06 2.06-.94-2.06-.94-.94-2.06-.94 2.06-2.06.94z\"/><path d=\"M17.41 7.96l-1.37-1.37c-.4-.4-.92-.59-1.43-.59-.52 0-1.04.2-1.43.59L10.3 9.45l-7.72 7.72c-.78.78-.78 2.05 0 2.83L4 21.41c.39.39.9.59 1.41.59.51 0 1.02-.2 1.41-.59l7.78-7.78 2.81-2.81c.8-.78.8-2.07 0-2.86zM5.41 20L4 18.59l7.72-7.72 1.47 1.35L5.41 20z\"/>\n",
              "  </svg>\n",
              "      </button>\n",
              "      \n",
              "  <style>\n",
              "    .colab-df-container {\n",
              "      display:flex;\n",
              "      flex-wrap:wrap;\n",
              "      gap: 12px;\n",
              "    }\n",
              "\n",
              "    .colab-df-convert {\n",
              "      background-color: #E8F0FE;\n",
              "      border: none;\n",
              "      border-radius: 50%;\n",
              "      cursor: pointer;\n",
              "      display: none;\n",
              "      fill: #1967D2;\n",
              "      height: 32px;\n",
              "      padding: 0 0 0 0;\n",
              "      width: 32px;\n",
              "    }\n",
              "\n",
              "    .colab-df-convert:hover {\n",
              "      background-color: #E2EBFA;\n",
              "      box-shadow: 0px 1px 2px rgba(60, 64, 67, 0.3), 0px 1px 3px 1px rgba(60, 64, 67, 0.15);\n",
              "      fill: #174EA6;\n",
              "    }\n",
              "\n",
              "    [theme=dark] .colab-df-convert {\n",
              "      background-color: #3B4455;\n",
              "      fill: #D2E3FC;\n",
              "    }\n",
              "\n",
              "    [theme=dark] .colab-df-convert:hover {\n",
              "      background-color: #434B5C;\n",
              "      box-shadow: 0px 1px 3px 1px rgba(0, 0, 0, 0.15);\n",
              "      filter: drop-shadow(0px 1px 2px rgba(0, 0, 0, 0.3));\n",
              "      fill: #FFFFFF;\n",
              "    }\n",
              "  </style>\n",
              "\n",
              "      <script>\n",
              "        const buttonEl =\n",
              "          document.querySelector('#df-7265552c-9b5c-40b0-8e8d-5c00611e07e1 button.colab-df-convert');\n",
              "        buttonEl.style.display =\n",
              "          google.colab.kernel.accessAllowed ? 'block' : 'none';\n",
              "\n",
              "        async function convertToInteractive(key) {\n",
              "          const element = document.querySelector('#df-7265552c-9b5c-40b0-8e8d-5c00611e07e1');\n",
              "          const dataTable =\n",
              "            await google.colab.kernel.invokeFunction('convertToInteractive',\n",
              "                                                     [key], {});\n",
              "          if (!dataTable) return;\n",
              "\n",
              "          const docLinkHtml = 'Like what you see? Visit the ' +\n",
              "            '<a target=\"_blank\" href=https://colab.research.google.com/notebooks/data_table.ipynb>data table notebook</a>'\n",
              "            + ' to learn more about interactive tables.';\n",
              "          element.innerHTML = '';\n",
              "          dataTable['output_type'] = 'display_data';\n",
              "          await google.colab.output.renderOutput(dataTable, element);\n",
              "          const docLink = document.createElement('div');\n",
              "          docLink.innerHTML = docLinkHtml;\n",
              "          element.appendChild(docLink);\n",
              "        }\n",
              "      </script>\n",
              "    </div>\n",
              "  </div>\n",
              "  "
            ]
          },
          "metadata": {},
          "execution_count": 164
        }
      ]
    },
    {
      "cell_type": "code",
      "source": [
        "featureMat.insert(len(featureMat),'Sentiments',dataChunk.Sentiments)"
      ],
      "metadata": {
        "id": "gd9zBOheqxWx"
      },
      "execution_count": null,
      "outputs": []
    },
    {
      "cell_type": "code",
      "source": [
        "featureMat.to_csv('drive/MyDrive/features/testFeatures')"
      ],
      "metadata": {
        "id": "2jUhB-jxtExu"
      },
      "execution_count": null,
      "outputs": []
    },
    {
      "cell_type": "code",
      "source": [
        "import pickle\n",
        "data=featureMat.drop('Sentiments',axis=1)"
      ],
      "metadata": {
        "id": "p5h1N5VMqxZn"
      },
      "execution_count": null,
      "outputs": []
    },
    {
      "cell_type": "code",
      "source": [
        "import pandas as pd\n",
        "fM=pd.read_csv('drive/MyDrive/features/testFeatures')"
      ],
      "metadata": {
        "id": "s3t-W2WMqxfD"
      },
      "execution_count": null,
      "outputs": []
    },
    {
      "cell_type": "code",
      "source": [
        ""
      ],
      "metadata": {
        "id": "CkVxd8wjqxhi"
      },
      "execution_count": null,
      "outputs": []
    },
    {
      "cell_type": "code",
      "source": [
        ""
      ],
      "metadata": {
        "id": "mFntRZQnqxkG"
      },
      "execution_count": null,
      "outputs": []
    },
    {
      "cell_type": "code",
      "source": [
        ""
      ],
      "metadata": {
        "id": "nHa-L-weqxmU"
      },
      "execution_count": null,
      "outputs": []
    }
  ]
}