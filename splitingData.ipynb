{
 "cells": [
  {
   "cell_type": "code",
   "execution_count": 1,
   "id": "be45dbbb",
   "metadata": {},
   "outputs": [],
   "source": [
    "import pandas as pd"
   ]
  },
  {
   "cell_type": "code",
   "execution_count": 2,
   "id": "43dfd7fd",
   "metadata": {},
   "outputs": [
    {
     "data": {
      "text/plain": [
       "['cleaned.csv', 'dataset_finale.tsv', 'lexicons', 'pre.csv', 'Sentiments.tsv']"
      ]
     },
     "execution_count": 2,
     "metadata": {},
     "output_type": "execute_result"
    }
   ],
   "source": [
    "import os\n",
    "os.listdir('.\\\\datasets')"
   ]
  },
  {
   "cell_type": "code",
   "execution_count": 3,
   "id": "49552ef1",
   "metadata": {},
   "outputs": [],
   "source": [
    "df=pd.read_csv('.\\\\datasets\\\\Sentiments.tsv',header='infer',sep='\\t', encoding='latin-1')"
   ]
  },
  {
   "cell_type": "code",
   "execution_count": 4,
   "id": "1db5540a",
   "metadata": {},
   "outputs": [
    {
     "data": {
      "text/plain": [
       "58612"
      ]
     },
     "execution_count": 4,
     "metadata": {},
     "output_type": "execute_result"
    }
   ],
   "source": [
    "len(df)"
   ]
  },
  {
   "cell_type": "code",
   "execution_count": 5,
   "id": "066fb9d7",
   "metadata": {},
   "outputs": [
    {
     "data": {
      "text/html": [
       "<div>\n",
       "<style scoped>\n",
       "    .dataframe tbody tr th:only-of-type {\n",
       "        vertical-align: middle;\n",
       "    }\n",
       "\n",
       "    .dataframe tbody tr th {\n",
       "        vertical-align: top;\n",
       "    }\n",
       "\n",
       "    .dataframe thead th {\n",
       "        text-align: right;\n",
       "    }\n",
       "</style>\n",
       "<table border=\"1\" class=\"dataframe\">\n",
       "  <thead>\n",
       "    <tr style=\"text-align: right;\">\n",
       "      <th></th>\n",
       "      <th>ReviewID</th>\n",
       "      <th>ReviewText</th>\n",
       "      <th>Sentiments</th>\n",
       "    </tr>\n",
       "  </thead>\n",
       "  <tbody>\n",
       "    <tr>\n",
       "      <th>0</th>\n",
       "      <td>407380226</td>\n",
       "      <td>The premises are very peaceful and well mainta...</td>\n",
       "      <td>1</td>\n",
       "    </tr>\n",
       "    <tr>\n",
       "      <th>1</th>\n",
       "      <td>337083244</td>\n",
       "      <td>5 min drive out of Pisa or you need to catch t...</td>\n",
       "      <td>0</td>\n",
       "    </tr>\n",
       "    <tr>\n",
       "      <th>2</th>\n",
       "      <td>297292721</td>\n",
       "      <td>My family of 5 stayed at the residence San Ros...</td>\n",
       "      <td>1</td>\n",
       "    </tr>\n",
       "    <tr>\n",
       "      <th>3</th>\n",
       "      <td>225898866</td>\n",
       "      <td>We stayed here for a couple of nights on the w...</td>\n",
       "      <td>1</td>\n",
       "    </tr>\n",
       "    <tr>\n",
       "      <th>4</th>\n",
       "      <td>165676171</td>\n",
       "      <td>The accomodation was simple but more than adeq...</td>\n",
       "      <td>1</td>\n",
       "    </tr>\n",
       "    <tr>\n",
       "      <th>5</th>\n",
       "      <td>140136860</td>\n",
       "      <td>We booked this accomodation with a group of si...</td>\n",
       "      <td>1</td>\n",
       "    </tr>\n",
       "    <tr>\n",
       "      <th>6</th>\n",
       "      <td>116973608</td>\n",
       "      <td>The Hostel is in a pretty good location, about...</td>\n",
       "      <td>-1</td>\n",
       "    </tr>\n",
       "    <tr>\n",
       "      <th>7</th>\n",
       "      <td>110947906</td>\n",
       "      <td>While travelling around, I spend one night in ...</td>\n",
       "      <td>0</td>\n",
       "    </tr>\n",
       "    <tr>\n",
       "      <th>8</th>\n",
       "      <td>93875484</td>\n",
       "      <td>the place is clean and the staff friendly but ...</td>\n",
       "      <td>-1</td>\n",
       "    </tr>\n",
       "    <tr>\n",
       "      <th>9</th>\n",
       "      <td>70364149</td>\n",
       "      <td>I just love this place - not only because of c...</td>\n",
       "      <td>1</td>\n",
       "    </tr>\n",
       "  </tbody>\n",
       "</table>\n",
       "</div>"
      ],
      "text/plain": [
       "    ReviewID                                         ReviewText  Sentiments\n",
       "0  407380226  The premises are very peaceful and well mainta...           1\n",
       "1  337083244  5 min drive out of Pisa or you need to catch t...           0\n",
       "2  297292721  My family of 5 stayed at the residence San Ros...           1\n",
       "3  225898866  We stayed here for a couple of nights on the w...           1\n",
       "4  165676171  The accomodation was simple but more than adeq...           1\n",
       "5  140136860  We booked this accomodation with a group of si...           1\n",
       "6  116973608  The Hostel is in a pretty good location, about...          -1\n",
       "7  110947906  While travelling around, I spend one night in ...           0\n",
       "8   93875484  the place is clean and the staff friendly but ...          -1\n",
       "9   70364149  I just love this place - not only because of c...           1"
      ]
     },
     "execution_count": 5,
     "metadata": {},
     "output_type": "execute_result"
    }
   ],
   "source": [
    "df.head(10)"
   ]
  },
  {
   "cell_type": "code",
   "execution_count": 6,
   "id": "dec7fd7d",
   "metadata": {},
   "outputs": [],
   "source": [
    "# divide data in frames\n",
    "def split_Data(frameName,val):\n",
    "    print(frameName,val)\n",
    "    frame=df.loc[df['Sentiments'] == val]\n",
    "    frame.to_csv('.\\\\Processed\\\\Split_Data\\\\' + frameName + '.csv',index=False)\n",
    "    print('frame named',frameName,' created and added to file',frameName+'.csv -- val was',val)"
   ]
  },
  {
   "cell_type": "code",
   "execution_count": 7,
   "id": "851cf2f2",
   "metadata": {},
   "outputs": [
    {
     "name": "stdout",
     "output_type": "stream",
     "text": [
      "positive 1\n",
      "frame named positive  created and added to file positive.csv -- val was 1\n",
      "negative -1\n",
      "frame named negative  created and added to file negative.csv -- val was -1\n",
      "neutral 0\n",
      "frame named neutral  created and added to file neutral.csv -- val was 0\n"
     ]
    }
   ],
   "source": [
    "# positve frame\n",
    "split_Data('positive',1)\n",
    "# negative frame\n",
    "split_Data('negative',-1)\n",
    "# neutral frame\n",
    "split_Data('neutral',0)"
   ]
  },
  {
   "cell_type": "markdown",
   "id": "35280217",
   "metadata": {},
   "source": [
    "### Reading Frames and Processing "
   ]
  },
  {
   "cell_type": "code",
   "execution_count": 8,
   "id": "b3f2c6ac",
   "metadata": {},
   "outputs": [],
   "source": [
    "pFrame=pd.read_csv('.\\\\Processed\\\\Split_Data\\\\positive.csv',header='infer')"
   ]
  },
  {
   "cell_type": "code",
   "execution_count": 9,
   "id": "96c24c73",
   "metadata": {},
   "outputs": [
    {
     "data": {
      "text/plain": [
       "46738"
      ]
     },
     "execution_count": 9,
     "metadata": {},
     "output_type": "execute_result"
    }
   ],
   "source": [
    "len(pFrame)"
   ]
  },
  {
   "cell_type": "code",
   "execution_count": 10,
   "id": "3516449f",
   "metadata": {},
   "outputs": [
    {
     "data": {
      "text/plain": [
       "4451"
      ]
     },
     "execution_count": 10,
     "metadata": {},
     "output_type": "execute_result"
    }
   ],
   "source": [
    "nFrame=pd.read_csv('.\\\\Processed\\\\Split_Data\\\\negative.csv',header='infer')\n",
    "len(nFrame)"
   ]
  },
  {
   "cell_type": "code",
   "execution_count": 11,
   "id": "82e5faa0",
   "metadata": {},
   "outputs": [],
   "source": [
    "neutralFrame=pd.read_csv('.\\\\Processed\\\\Split_Data\\\\neutral.csv',header='infer')"
   ]
  },
  {
   "cell_type": "code",
   "execution_count": 12,
   "id": "9fa505db",
   "metadata": {},
   "outputs": [
    {
     "name": "stdout",
     "output_type": "stream",
     "text": [
      "7423 + 46738 + 4451 = 58612\n"
     ]
    }
   ],
   "source": [
    "print(len(neutralFrame),'+',len(pFrame),'+',len(nFrame),'=',len(neutralFrame)+len(pFrame)+len(nFrame))"
   ]
  },
  {
   "cell_type": "code",
   "execution_count": 13,
   "id": "6ac78045",
   "metadata": {},
   "outputs": [
    {
     "name": "stdout",
     "output_type": "stream",
     "text": [
      "32716 + 3116 + 5196 + 41028\n"
     ]
    }
   ],
   "source": [
    "pTrain=pFrame.sample(n=32716)\n",
    "negTrain=nFrame.sample(n=3116)\n",
    "neuTrain=neutralFrame.sample(n=5196)\n",
    "print(len(pTrain),'+',len(negTrain),'+',len(neuTrain),'+',len(pTrain)+len(negTrain)+len(neuTrain))"
   ]
  },
  {
   "cell_type": "code",
   "execution_count": 14,
   "id": "2c9578fb",
   "metadata": {},
   "outputs": [
    {
     "name": "stdout",
     "output_type": "stream",
     "text": [
      "Stored training set to storage\n"
     ]
    }
   ],
   "source": [
    "trainSet=pd.concat([pTrain,negTrain,neuTrain])\n",
    "len(trainSet)\n",
    "trainSet.to_csv('.\\\\Processed\\\\Split_Data\\\\Splitted\\\\train.csv',index=False)\n",
    "print('Stored training set to storage')"
   ]
  },
  {
   "cell_type": "code",
   "execution_count": 15,
   "id": "8e542893",
   "metadata": {},
   "outputs": [
    {
     "data": {
      "text/plain": [
       "41028"
      ]
     },
     "execution_count": 15,
     "metadata": {},
     "output_type": "execute_result"
    }
   ],
   "source": [
    "check=pd.read_csv('.\\\\Processed\\\\Split_Data\\\\Splitted\\\\train.csv')\n",
    "len(check)"
   ]
  },
  {
   "cell_type": "code",
   "execution_count": 16,
   "id": "5e9f9a96",
   "metadata": {},
   "outputs": [
    {
     "data": {
      "text/plain": [
       "14022"
      ]
     },
     "execution_count": 16,
     "metadata": {},
     "output_type": "execute_result"
    }
   ],
   "source": [
    "leftOver=pd.concat([trainSet,pFrame,negTrain,neuTrain]).drop_duplicates(keep=False)\n",
    "len(leftOver)"
   ]
  },
  {
   "cell_type": "code",
   "execution_count": 42,
   "id": "7a45097a",
   "metadata": {},
   "outputs": [],
   "source": [
    "### =-=-=-=-=creating validate set=-=-=-=-=-="
   ]
  },
  {
   "cell_type": "code",
   "execution_count": 20,
   "id": "629d2d4b",
   "metadata": {},
   "outputs": [
    {
     "name": "stdout",
     "output_type": "stream",
     "text": [
      "11441 + 839 + 1742 = 14022\n"
     ]
    }
   ],
   "source": [
    "vps=leftOver.loc[df['Sentiments'] == 1]\n",
    "vnegs=leftOver.loc[df['Sentiments'] == -1]\n",
    "vneus=leftOver.loc[df['Sentiments'] == 0]\n",
    "print(len(vps),'+',len(vnegs),'+',len(vneus),'=',len(vps)+len(vnegs)+len(vneus))"
   ]
  },
  {
   "cell_type": "code",
   "execution_count": 23,
   "id": "637e16ca",
   "metadata": {},
   "outputs": [
    {
     "data": {
      "text/plain": [
       "839"
      ]
     },
     "execution_count": 23,
     "metadata": {},
     "output_type": "execute_result"
    }
   ],
   "source": [
    "len(vnegs)"
   ]
  },
  {
   "cell_type": "code",
   "execution_count": null,
   "id": "a6d0748e",
   "metadata": {},
   "outputs": [],
   "source": [
    "pTrain=vps.sample(n=9348)\n",
    "negTrain=vnegs.sample(n=890)\n",
    "neuTrain=vneus.sample(n=1485)\n",
    "print(len(pTrain),'+',len(negTrain),'+',len(neuTrain),'+',len(pTrain)+len(negTrain)+len(neuTrain))"
   ]
  },
  {
   "cell_type": "code",
   "execution_count": 117,
   "id": "e8ad207b",
   "metadata": {},
   "outputs": [
    {
     "name": "stdout",
     "output_type": "stream",
     "text": [
      "11723\n",
      "Stored validate set to storage\n"
     ]
    }
   ],
   "source": [
    "# storing validate set \n",
    "validateSet=pd.concat([pTrain,negTrain,neuTrain])\n",
    "print(len(validateSet))\n",
    "validateSet.to_csv('.\\\\Processed\\\\Split_Data\\\\Splitted\\\\validate.csv',index=False)\n",
    "print('Stored validate set to storage')"
   ]
  },
  {
   "cell_type": "code",
   "execution_count": 118,
   "id": "04a07420",
   "metadata": {},
   "outputs": [
    {
     "data": {
      "text/plain": [
       "41022"
      ]
     },
     "execution_count": 118,
     "metadata": {},
     "output_type": "execute_result"
    }
   ],
   "source": [
    "leftOver=pd.concat([validateSet,pTrain,negTrain,neuTrain,trainSet]).drop_duplicates(keep=False)\n",
    "len(leftOver)"
   ]
  },
  {
   "cell_type": "code",
   "execution_count": null,
   "id": "ea50fbde",
   "metadata": {},
   "outputs": [],
   "source": [
    "### -=-=-=-=-= creating test set =-=-=-=-=-=-"
   ]
  },
  {
   "cell_type": "code",
   "execution_count": 119,
   "id": "55700cc5",
   "metadata": {},
   "outputs": [
    {
     "name": "stdout",
     "output_type": "stream",
     "text": [
      "33415 + 2534 + 5073 = 41022\n"
     ]
    }
   ],
   "source": [
    "tps=leftOver.loc[df['Sentiments'] == 1]\n",
    "tnegs=leftOver.loc[df['Sentiments'] == -1]\n",
    "tneus=leftOver.loc[df['Sentiments'] == 0]\n",
    "print(len(tps),'+',len(tnegs),'+',len(tneus),'=',len(tps)+len(tnegs)+len(tneus))"
   ]
  },
  {
   "cell_type": "code",
   "execution_count": 120,
   "id": "ca10fd68",
   "metadata": {},
   "outputs": [
    {
     "name": "stdout",
     "output_type": "stream",
     "text": [
      "4674 + 445 + 1485 + 5861\n"
     ]
    }
   ],
   "source": [
    "ftpos=tps.sample(n=4674)\n",
    "ftneg=tnegs.sample(n=445)\n",
    "ftneut=tneus.sample(n=742)\n",
    "print(len(ftpos),'+',len(ftneg),'+',len(neuTrain),'+',len(ftpos)+len(ftneg)+len(ftneut))"
   ]
  },
  {
   "cell_type": "code",
   "execution_count": 121,
   "id": "b7489772",
   "metadata": {},
   "outputs": [
    {
     "name": "stdout",
     "output_type": "stream",
     "text": [
      "5861\n",
      "Stored test set to storage\n"
     ]
    }
   ],
   "source": [
    "# storing test set \n",
    "test=pd.concat([ftpos,ftneg,ftneut])\n",
    "print(len(test))\n",
    "test.to_csv('.\\\\Processed\\\\Split_Data\\\\Splitted\\\\test.csv',index=False)\n",
    "print('Stored test set to storage')"
   ]
  }
 ],
 "metadata": {
  "kernelspec": {
   "display_name": "Python 3 (ipykernel)",
   "language": "python",
   "name": "python3"
  },
  "language_info": {
   "codemirror_mode": {
    "name": "ipython",
    "version": 3
   },
   "file_extension": ".py",
   "mimetype": "text/x-python",
   "name": "python",
   "nbconvert_exporter": "python",
   "pygments_lexer": "ipython3",
   "version": "3.8.12"
  }
 },
 "nbformat": 4,
 "nbformat_minor": 5
}
